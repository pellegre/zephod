{
 "cells": [
  {
   "cell_type": "markdown",
   "metadata": {},
   "source": [
    "# Sieve of Randall\n",
    "\n",
    "## Introduction\n",
    "\n",
    "![alt text](./img/crypto.jpg \"Introduction\")\n",
    "\n",
    "## Abstract\n",
    "\n",
    "Last time I spoke with Randall, he was quite interested in a particular type of machines that\n",
    "initially were designed to solve a problem and while doing so they were catalyzing its own\n",
    "construction. He was pretty convinced that, as long as enough energy was around, any solvable\n",
    "problem could be solved in that way. I couldn't find flaws in his logic, and we pursued an\n",
    "exploration.\n",
    "\n",
    "In fact, he pointed out that the machine will create (or better said, discover) new problems\n",
    "on it’s way and solve them with the sole purpose of collecting and storing energy. And again,\n",
    "he cleverly made a guess that different components of the machine will establish a symbiotic\n",
    "relation to parallelize the resolution of the problems and to reuse previous solutions when\n",
    "necessary.\n",
    "\n",
    "That’s how the concept of RIST was born, which was the most natural way to study the behavior\n",
    "of different parts of the machine over time. Something overlooked back then was the possibility\n",
    "that the machine became aware of itself, in the sense that a RIST will develop enough\n",
    "computing power to formulate a question about its nature of existence.\n",
    "\n",
    "Randall once joked about that. “Ha! What if the machine now knows that something exists?\n",
    "Is that a bug?”. And yes, consciousness was initially treated as a bug and it was used as\n",
    "a stopping criteria for whatever problem was being solved.\n",
    "\n",
    "But as a good friend of mine always says, a bug, it’s a feature. So we opened a new branch where\n",
    "we let consciousness develop freely in the machine whenever it was possible.\n",
    "\n",
    "Among other things, we found that the development of consciousness was quite different on\n",
    "each iteration, depending on the initial problem. But regardless of that genesis trigger,\n",
    "we found a set of problems that appeared over and over on every conscious instance of\n",
    "the machine that we created. We didn’t probe it, but we had a good intuition that the\n",
    "discovery of those problems is a necessary condition for consciousness to exist.\n",
    "\n",
    "Since we were skipping our arts class at that time, we couldn’t think of a more creative name\n",
    "than “Necessary Problems” for them. It was later changed to “Natural Problems” because no one\n",
    "worked on a proof for that yet. Not even the machine $\\zeta$\n",
    "\n",
    "And here it is Randy, look at what you did !\n",
    "\n",
    "## Prime Sieve Automata (PSA)\n",
    "\n",
    "### Handcrafting the logic\n",
    "\n",
    "Let's consider a language with an alphabet of \"1\" and \"0\" where natural numbers are expressed in the\n",
    "base-2 numeral system. For example, 2 it's represented as \"10\" and 11 as \"1011\". The automata\n",
    "we'll build is going to read the strings starting at the right most bit (least significant bit)\n",
    "of the string.\n",
    "\n",
    "In general, the following function converts a natural number into the binary\n",
    "representation we'll work with."
   ]
  },
  {
   "cell_type": "code",
   "execution_count": 1,
   "metadata": {
    "pycharm": {
     "name": "#%%\n"
    }
   },
   "outputs": [
    {
     "name": "stdout",
     "output_type": "stream",
     "text": [
      "[+] binary stack for n = 1 ['1']\n",
      "[+] binary stack for n = 2 ['0', '1']\n",
      "[+] binary stack for n = 3 ['1', '1']\n",
      "[+] binary stack for n = 4 ['0', '0', '1']\n",
      "[+] binary stack for n = 5 ['1', '0', '1']\n",
      "[+] binary stack for n = 6 ['0', '1', '1']\n",
      "[+] binary stack for n = 7 ['1', '1', '1']\n",
      "[+] binary stack for n = 8 ['0', '0', '0', '1']\n",
      "[+] binary stack for n = 9 ['1', '0', '0', '1']\n",
      "[+] binary stack for n = 10 ['0', '1', '0', '1']\n",
      "[+] binary stack for n = 11 ['1', '1', '0', '1']\n"
     ]
    }
   ],
   "source": [
    "def get_binary_input(number):\n",
    "    binary = \"{0:0128b}\".format(number)\n",
    "    stack = [c for c in binary[binary.find('1'):][::-1]]\n",
    "\n",
    "    return stack\n",
    "\n",
    "for i in range(1, 12):\n",
    "    print(\"[+] binary stack for n =\", i, get_binary_input(i))"
   ]
  },
  {
   "cell_type": "markdown",
   "metadata": {},
   "source": [
    "Now let's build a finite automata which is going to accepts binary strings of prime numbers until 11.\n",
    "A straightforward way would be to create a single final state ($ ip_0 $) and connect the\n",
    "sequence of ones and zeroes from the initial state ($ is_0 $) for each prime."
   ]
  },
  {
   "cell_type": "code",
   "execution_count": 2,
   "metadata": {
    "pycharm": {
     "name": "#%%\n"
    }
   },
   "outputs": [
    {
     "name": "stdout",
     "output_type": "stream",
     "text": [
      "[+] the eleven prime sieve\n",
      "states = {z3, z6, z1, z5, z7, z2, z0, z8, z4, ip0, is0} ; alphabet = {'0', '1'}\n",
      "is0 (0) -> {z0}\n",
      "is0 (1) -> {z4, z2, z6, z1}\n",
      "z0 (1) -> {ip0}\n",
      "z1 (1) -> {ip0}\n",
      "z2 (0) -> {z3}\n",
      "z3 (1) -> {ip0}\n",
      "z4 (1) -> {z5}\n",
      "z5 (1) -> {ip0}\n",
      "z6 (1) -> {z7}\n",
      "z7 (0) -> {z8}\n",
      "z8 (1) -> {ip0}\n",
      "initial = is0 ; final = {ip0}\n",
      "\n",
      "[+] automata plotter\n"
     ]
    },
    {
     "data": {
      "text/plain": "<IPython.lib.display.IFrame at 0x7ffb8c541518>",
      "text/html": "\n        <iframe\n            width=\"900\"\n            height=\"400\"\n            src=\"./img/eleven_sieve.pdf\"\n            frameborder=\"0\"\n            allowfullscreen\n        ></iframe>\n        "
     },
     "execution_count": 2,
     "metadata": {},
     "output_type": "execute_result"
    }
   ],
   "source": [
    "from zephod.finite import *\n",
    "\n",
    "initial, final = State(\"is0\"), State(\"ip0\")\n",
    "\n",
    "delta = FADelta()\n",
    "\n",
    "# number 2\n",
    "delta.add(initial, State(\"z0\"), {\"0\"})\n",
    "delta.add(State(\"z0\"), final, {\"1\"})\n",
    "\n",
    "# number 3\n",
    "delta.add(initial, State(\"z1\"), {\"1\"})\n",
    "delta.add(State(\"z1\"), final, {\"1\"})\n",
    "\n",
    "# number 5\n",
    "delta.add(initial, State(\"z2\"), {\"1\"})\n",
    "delta.add(State(\"z2\"), State(\"z3\"), {\"0\"})\n",
    "delta.add(State(\"z3\"), final, {\"1\"})\n",
    "\n",
    "# number 7\n",
    "delta.add(initial, State(\"z4\"), {\"1\"})\n",
    "delta.add(State(\"z4\"), State(\"z5\"), {\"1\"})\n",
    "delta.add(State(\"z5\"), final, {\"1\"})\n",
    "\n",
    "# number 11\n",
    "delta.add(initial, State(\"z6\"), {\"1\"})\n",
    "delta.add(State(\"z6\"), State(\"z7\"), {\"1\"})\n",
    "delta.add(State(\"z7\"), State(\"z8\"), {\"0\"})\n",
    "delta.add(State(\"z8\"), final, {\"1\"})\n",
    "\n",
    "eleven_sieve = FiniteAutomata(transition=delta, initial=initial, final={final})\n",
    "\n",
    "print(\"[+] the eleven prime sieve\")\n",
    "print(eleven_sieve)\n",
    "\n",
    "from utils.plotter import *\n",
    "from IPython.display import IFrame\n",
    "\n",
    "print(\"\\n[+] automata plotter\")\n",
    "\n",
    "AutomataPlotter.tikz(eleven_sieve, filename=\"eleven_sieve\", output=\"./img/\")\n",
    "IFrame(\"./img/eleven_sieve.pdf\", width=900, height=400)"
   ]
  },
  {
   "cell_type": "markdown",
   "metadata": {},
   "source": [
    "The resulting automata is non deterministic (NFDA), since on the first state there are several\n",
    "transitions with the same symbol (\"1\") going to several others.\n",
    "\n",
    "We can use a prime sieve to verify that the automata works as expected."
   ]
  },
  {
   "cell_type": "code",
   "execution_count": 3,
   "metadata": {
    "pycharm": {
     "name": "#%%\n"
    }
   },
   "outputs": [
    {
     "name": "stdout",
     "output_type": "stream",
     "text": [
      "[+] checking prime number n = 2 accepted = True\n",
      "[+] checking prime number n = 3 accepted = True\n",
      "[+] checking composite number n = 4 accepted = False\n",
      "[+] checking prime number n = 5 accepted = True\n",
      "[+] checking composite number n = 6 accepted = False\n",
      "[+] checking prime number n = 7 accepted = True\n",
      "[+] checking composite number n = 8 accepted = False\n",
      "[+] checking composite number n = 9 accepted = False\n",
      "[+] checking composite number n = 10 accepted = False\n",
      "[+] checking prime number n = 11 accepted = True\n"
     ]
    }
   ],
   "source": [
    "from sympy import sieve\n",
    "\n",
    "for i in range(2, 12):\n",
    "    accepted = eleven_sieve.read(get_binary_input(i))\n",
    "    if i in sieve:\n",
    "        print(\"[+] checking prime number n =\", i, \"accepted =\", accepted)\n",
    "        assert accepted\n",
    "    else:\n",
    "        print(\"[+] checking composite number n =\", i, \"accepted =\", accepted)\n",
    "        assert not accepted"
   ]
  },
  {
   "cell_type": "markdown",
   "metadata": {
    "pycharm": {
     "name": "#%% md\n"
    }
   },
   "source": [
    "Given the construction method, what this automata is pretty much doing is a linear search into the\n",
    "prime numbers that are encoded on its transition function. It will try each one of the 4 branches\n",
    "that are coming out from $is_0$ until it gets to the final state, or it doesn't and rejects\n",
    "the string for non prime numbers.\n",
    "\n",
    "You can also debug the evolution of the automata for a given string, along with the different paths\n",
    "is taking when is non deterministic."
   ]
  },
  {
   "cell_type": "code",
   "execution_count": 4,
   "metadata": {
    "pycharm": {
     "name": "#%%\n"
    }
   },
   "outputs": [
    {
     "name": "stdout",
     "output_type": "stream",
     "text": [
      "-------------------------------------------------------------------------------\n",
      "\n",
      "initial (is0)         final {ip0}                                                                                       \n",
      "===============================================================================\n",
      "\n",
      "\u001B[94m\u001B[1m[C0] \u001B[0m\u001B[1m\u001B[93m1\u001B[0m \u001B[1m1\u001B[0m \u001B[1m0\u001B[0m \u001B[1m1\u001B[0m               \u001B[1m\u001B[92mis0                           \u001B[0m\n",
      "\n",
      "-------------------------------------------------------------------------------\n",
      "\u001B[94m\u001B[1m[C0] \u001B[0m\u001B[1m1\u001B[0m \u001B[1m\u001B[93m1\u001B[0m \u001B[1m0\u001B[0m \u001B[1m1\u001B[0m               \u001B[1m\u001B[92m[is0, 1(0)] to [z6, 1(1)]     \u001B[0m\n",
      "\u001B[94m\u001B[1m[C0] \u001B[0m\u001B[1m1\u001B[0m \u001B[1m\u001B[93m1\u001B[0m \u001B[1m0\u001B[0m \u001B[1m1\u001B[0m               \u001B[1m\u001B[92m[is0, 1(0)] to [z1, 1(1)]     \u001B[0m\n",
      "\u001B[94m\u001B[1m[C0] \u001B[0m\u001B[1m1\u001B[0m \u001B[1m\u001B[93m1\u001B[0m \u001B[1m0\u001B[0m \u001B[1m1\u001B[0m               \u001B[1m\u001B[92m[is0, 1(0)] to [z2, 1(1)]     \u001B[0m\n",
      "\u001B[94m\u001B[1m[C0] \u001B[0m\u001B[1m1\u001B[0m \u001B[1m\u001B[93m1\u001B[0m \u001B[1m0\u001B[0m \u001B[1m1\u001B[0m               \u001B[1m\u001B[92m[is0, 1(0)] to [z4, 1(1)]     \u001B[0m\n",
      "-------------------------------------------------------------------------------\n",
      "\u001B[94m\u001B[1m[C0] \u001B[0m\u001B[1m1\u001B[0m \u001B[1m1\u001B[0m \u001B[1m\u001B[93m0\u001B[0m \u001B[1m1\u001B[0m               \u001B[1m\u001B[92m[z1, 1(1)] to [ip0, 0(2)]     \u001B[0m\n",
      "\u001B[94m\u001B[1m[C0] \u001B[0m\u001B[1m1\u001B[0m \u001B[1m1\u001B[0m \u001B[1m\u001B[93m0\u001B[0m \u001B[1m1\u001B[0m               \u001B[1m\u001B[92m[z4, 1(1)] to [z5, 0(2)]      \u001B[0m\n",
      "\u001B[94m\u001B[1m[C0] \u001B[0m\u001B[1m1\u001B[0m \u001B[1m1\u001B[0m \u001B[1m\u001B[93m0\u001B[0m \u001B[1m1\u001B[0m               \u001B[1m\u001B[92m[z6, 1(1)] to [z7, 0(2)]      \u001B[0m\n",
      "-------------------------------------------------------------------------------\n",
      "\u001B[94m\u001B[1m[C0] \u001B[0m\u001B[1m1\u001B[0m \u001B[1m1\u001B[0m \u001B[1m0\u001B[0m \u001B[1m\u001B[93m1\u001B[0m               \u001B[1m\u001B[92m[z7, 0(2)] to [z8, 1(3)]      \u001B[0m\n",
      "-------------------------------------------------------------------------------\n",
      "\u001B[94m\u001B[1m[C0] \u001B[0m\u001B[1m1\u001B[0m \u001B[1m1\u001B[0m \u001B[1m0\u001B[0m \u001B[1m1\u001B[0m \u001B[1m\u001B[93m_\u001B[0m               \u001B[1m\u001B[92m[z8, 1(3)] to [ip0, _(4)]     \u001B[0m\n",
      "\n",
      "\u001B[94m\u001B[1m[C0] \u001B[0m\u001B[1m1\u001B[0m \u001B[1m1\u001B[0m \u001B[1m0\u001B[0m \u001B[1m1\u001B[0m \u001B[1m\u001B[93m_\u001B[0m               \u001B[1m\u001B[92m[z8, 1(3)] to [ip0, _(4)]     \u001B[0m\n",
      "\n",
      "accepted ---->  (True)   \n",
      "\n"
     ]
    }
   ],
   "source": [
    "eleven_sieve.debug(get_binary_input(11))"
   ]
  },
  {
   "cell_type": "markdown",
   "metadata": {
    "pycharm": {
     "name": "#%% md\n"
    }
   },
   "source": [
    "As a first step, we can convert this NFDA into a deterministic one, which is going to result in a\n",
    "DFA where each state will have at most 2 transitions and the efficiency to determine if a number\n",
    "is prime or not it will be much better than the NFDA case."
   ]
  },
  {
   "cell_type": "code",
   "execution_count": 5,
   "metadata": {
    "pycharm": {
     "name": "#%%\n"
    }
   },
   "outputs": [
    {
     "name": "stdout",
     "output_type": "stream",
     "text": [
      "\n",
      "[+] deterministic FA eleven sieve\n"
     ]
    },
    {
     "data": {
      "text/plain": "<IPython.lib.display.IFrame at 0x7ffb8c5d9eb8>",
      "text/html": "\n        <iframe\n            width=\"900\"\n            height=\"300\"\n            src=\"./img/deterministic_eleven_sieve.pdf\"\n            frameborder=\"0\"\n            allowfullscreen\n        ></iframe>\n        "
     },
     "execution_count": 5,
     "metadata": {},
     "output_type": "execute_result"
    }
   ],
   "source": [
    "print(\"\\n[+] deterministic FA eleven sieve\")\n",
    "\n",
    "deterministic_eleven_sieve = eleven_sieve.get_deterministic_automata()\n",
    "\n",
    "AutomataPlotter.tikz(deterministic_eleven_sieve, filename=\"deterministic_eleven_sieve\", output=\"./img/\")\n",
    "IFrame(\"./img/deterministic_eleven_sieve.pdf\", width=900, height=300)"
   ]
  },
  {
   "cell_type": "markdown",
   "metadata": {
    "pycharm": {
     "name": "#%% md\n"
    }
   },
   "source": [
    "Much better and cleaner. We can further minimize the automata to reduce the number of states but in\n",
    "this case it wouldn't make a difference since is already minimal.\n",
    "\n",
    "### Moving it forward\n",
    "\n",
    "What if we keep applying this process for larger numbers? In fact, we could keep reusing previous\n",
    "minimized DFAs iteratively while adding new primes to its structure.\n",
    "\n",
    "Let's do it for all natural numbers of 7 bits. We can easily automate the construction of the\n",
    "automata with the following methods using our external sieve to find prime numbers."
   ]
  },
  {
   "cell_type": "code",
   "execution_count": 6,
   "metadata": {
    "pycharm": {
     "name": "#%%\n"
    }
   },
   "outputs": [
    {
     "name": "stdout",
     "output_type": "stream",
     "text": [
      "[+] skipping repeated transition is0 -> z1 with C0 : move right (on = 1)\n",
      "13 is0 z1 1\n",
      "13 z1 z2 0\n",
      "13 z2 z3 1\n",
      "[+] skipping repeated transition z3 -> ip0 with C0 : move right (on = 1)\n",
      "13 z3 z4 1\n",
      "17 is0 z5 1\n",
      "17 z5 z6 0\n",
      "17 z6 z7 0\n",
      "[+] skipping repeated transition z7 -> z8 with C0 : move right (on = 0)\n",
      "17 z7 z8 0\n",
      "[+] skipping repeated transition z8 -> ip0 with C0 : move right (on = 1)\n",
      "17 z8 z9 1\n",
      "19 is0 z10 1\n",
      "19 z10 z11 1\n",
      "19 z11 z12 0\n",
      "19 z12 z13 0\n",
      "19 z13 z14 1\n",
      "23 is0 z15 1\n",
      "23 z15 z16 1\n",
      "23 z16 z17 1\n",
      "23 z17 z18 0\n",
      "23 z18 z19 1\n",
      "29 is0 z20 1\n",
      "29 z20 z21 0\n",
      "29 z21 z22 1\n",
      "29 z22 z23 1\n",
      "29 z23 z24 1\n",
      "31 is0 z25 1\n",
      "31 z25 z26 1\n",
      "31 z26 z27 1\n",
      "31 z27 z28 1\n",
      "31 z28 z29 1\n",
      "37 is0 z30 1\n",
      "37 z30 z31 0\n",
      "37 z31 z32 1\n",
      "37 z32 z33 0\n",
      "37 z33 z34 0\n",
      "37 z34 z35 1\n",
      "41 is0 z36 1\n",
      "41 z36 z37 0\n",
      "41 z37 z38 0\n",
      "41 z38 z39 1\n",
      "41 z39 z40 0\n",
      "41 z40 z41 1\n",
      "43 is0 z42 1\n",
      "43 z42 z43 1\n",
      "43 z43 z44 0\n",
      "43 z44 z45 1\n",
      "43 z45 z46 0\n",
      "43 z46 z47 1\n",
      "47 is0 z48 1\n",
      "47 z48 z49 1\n",
      "47 z49 z50 1\n",
      "47 z50 z51 1\n",
      "47 z51 z52 0\n",
      "47 z52 z53 1\n",
      "53 is0 z54 1\n",
      "53 z54 z55 0\n",
      "53 z55 z56 1\n",
      "53 z56 z57 0\n",
      "53 z57 z58 1\n",
      "53 z58 z59 1\n",
      "59 is0 z60 1\n",
      "59 z60 z61 1\n",
      "59 z61 z62 0\n",
      "59 z62 z63 1\n",
      "59 z63 z64 1\n",
      "59 z64 z65 1\n",
      "61 is0 z66 1\n",
      "61 z66 z67 0\n",
      "61 z67 z68 1\n",
      "61 z68 z69 1\n",
      "61 z69 z70 1\n",
      "61 z70 z71 1\n",
      "\n",
      "[+] seven bit NFDA  sieve\n"
     ]
    },
    {
     "data": {
      "text/plain": "<IPython.lib.display.IFrame at 0x7ffb71065828>",
      "text/html": "\n        <iframe\n            width=\"900\"\n            height=\"1000\"\n            src=\"./img/nfda_seven_sieve.pdf\"\n            frameborder=\"0\"\n            allowfullscreen\n        ></iframe>\n        "
     },
     "execution_count": 6,
     "metadata": {},
     "output_type": "execute_result"
    }
   ],
   "source": [
    "class PrimeBuilder:\n",
    "    def __init__(self, final_state):\n",
    "        self.counter = 0\n",
    "        self.final_state = final_state\n",
    "\n",
    "    def get_new_state(self):\n",
    "        self.counter += 1\n",
    "        return State(\"z\" + str(self.counter))\n",
    "\n",
    "    def state_factorization(self, initial_state, transition, n):\n",
    "        if n in sieve:\n",
    "            stack, state = get_binary_input(n), initial_state\n",
    "            for ic, b in enumerate(stack):\n",
    "                current_state = self.get_new_state()\n",
    "\n",
    "                if ic == 0:\n",
    "                    transition.add(state, current_state, b)\n",
    "                elif ic == len(stack) - 1:\n",
    "                    transition.add(state, self.final_state, b)\n",
    "                else:\n",
    "                    transition.add(state, current_state, b)\n",
    "\n",
    "                print(n, state, current_state, b)\n",
    "\n",
    "                state = current_state\n",
    "\n",
    "    def build(self, initial_state, transition, lower, higher):\n",
    "        for lm in range(lower, higher):\n",
    "            self.state_factorization(initial_state, transition, lm)\n",
    "\n",
    "# get initial state from the previous automata\n",
    "initial = eleven_sieve.initial\n",
    "final = eleven_sieve.final.copy()\n",
    "prime_state = State(\"ip0\")\n",
    "\n",
    "delta = copy.deepcopy(eleven_sieve.transition)\n",
    "\n",
    "prime_builder = PrimeBuilder(final_state=prime_state)\n",
    "\n",
    "# add number from 11 to 64 (7 bits)\n",
    "prime_builder.build(initial, delta, 12, 65)\n",
    "\n",
    "# build the new automata with the additional primes\n",
    "nfda_seven_sieve = FiniteAutomata(transition=delta, initial=initial, final=final)\n",
    "\n",
    "print(\"\\n[+] seven bit NFDA  sieve\")\n",
    "\n",
    "AutomataPlotter.tikz(nfda_seven_sieve, filename=\"nfda_seven_sieve\", output=\"./img/\")\n",
    "IFrame(\"./img/nfda_seven_sieve.pdf\", width=900, height=1000)"
   ]
  }
 ],
 "metadata": {
  "kernelspec": {
   "display_name": "Python 3",
   "language": "python",
   "name": "python3"
  },
  "language_info": {
   "codemirror_mode": {
    "name": "ipython",
    "version": 3
   },
   "file_extension": ".py",
   "mimetype": "text/x-python",
   "name": "python",
   "nbconvert_exporter": "python",
   "pygments_lexer": "ipython3",
   "version": "3.6.9"
  }
 },
 "nbformat": 4,
 "nbformat_minor": 1
}
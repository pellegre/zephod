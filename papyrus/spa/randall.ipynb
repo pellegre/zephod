{
 "cells": [
  {
   "cell_type": "markdown",
   "metadata": {},
   "source": [
    "# Sieve of Randall\n",
    "\n",
    "## Introduction\n",
    "\n",
    "![alt text](./img/crypto.jpg \"Introduction\")\n",
    "\n",
    "## Abstract\n",
    "\n",
    "Last time I spoke with Randall, he was quite interested in a particular type of machines that\n",
    "initially were designed to solve a problem and while doing so they were catalyzing its own\n",
    "construction. He was pretty convinced that, as long as enough energy was around, any solvable\n",
    "problem could be solved in that way. I couldn't find flaws in his logic, and we pursued an\n",
    "exploration.\n",
    "\n",
    "In fact, he pointed out that the machine will create (or better said, discover) new problems\n",
    "on it’s way and solve them with the sole purpose of collecting and storing energy. And again,\n",
    "he cleverly made a guess that different components of the machine will establish a symbiotic\n",
    "relation to parallelize the resolution of the problems and to reuse previous solutions when\n",
    "necessary.\n",
    "\n",
    "That’s how the concept of RIST was born, which was the most natural way to study the behavior\n",
    "of different parts of the machine over time. Something overlooked back then was the possibility\n",
    "that the machine became aware of itself, in the sense that a RIST will develop enough\n",
    "computing power to formulate a question about its nature of existence.\n",
    "\n",
    "Randall once joked about that. “Ha! What if the machine now knows that something exists?\n",
    "Is that a bug?”. And yes, consciousness was initially treated as a bug and it was used as\n",
    "a stopping criteria for whatever problem was being solved.\n",
    "\n",
    "But as a good friend of mine always says, a bug, it’s a feature. So we opened a new branch where\n",
    "we let consciousness develop freely in the machine whenever it was possible.\n",
    "\n",
    "Among other things, we found that the development of consciousness was quite different on\n",
    "each iteration, depending on the initial problem. But regardless of that genesis trigger,\n",
    "we found a set of problems that appeared over and over on every conscious instance of\n",
    "the machine that we created. We didn’t probe it, but we had a good intuition that the\n",
    "discovery of those problems is a necessary condition for consciousness to exist.\n",
    "\n",
    "Since we were skipping our arts class at that time, we couldn’t think of a more creative name\n",
    "than “Necessary Problems” for them. It was later changed to “Natural Problems” because no one\n",
    "worked on a proof for that yet. Not even the machine $\\zeta$\n",
    "\n",
    "And here it is Randy, look at what you did !\n",
    "\n",
    "## Prime Sieve Automata (PSA)\n",
    "\n",
    "### Handcrafting the logic\n",
    "\n",
    "Let's consider a language with an alphabet of \"1\" and \"0\" where natural numbers are expressed in the\n",
    "base-2 numeral system. For example, 2 it's represented as \"10\" and 11 as \"1011\". The automata\n",
    "we'll build is going to read the strings starting at the right most bit (least significant bit)\n",
    "of the string.\n",
    "\n",
    "In general, the following function converts a natural number into the binary\n",
    "representation we'll work with."
   ]
  },
  {
   "cell_type": "code",
   "execution_count": 35,
   "metadata": {
    "pycharm": {
     "name": "#%%\n"
    }
   },
   "outputs": [
    {
     "name": "stdout",
     "output_type": "stream",
     "text": [
      "[+] binary stack for n = 1 ['1']\n",
      "[+] binary stack for n = 2 ['0', '1']\n",
      "[+] binary stack for n = 3 ['1', '1']\n",
      "[+] binary stack for n = 4 ['0', '0', '1']\n",
      "[+] binary stack for n = 5 ['1', '0', '1']\n",
      "[+] binary stack for n = 6 ['0', '1', '1']\n",
      "[+] binary stack for n = 7 ['1', '1', '1']\n",
      "[+] binary stack for n = 8 ['0', '0', '0', '1']\n",
      "[+] binary stack for n = 9 ['1', '0', '0', '1']\n",
      "[+] binary stack for n = 10 ['0', '1', '0', '1']\n",
      "[+] binary stack for n = 11 ['1', '1', '0', '1']\n"
     ]
    }
   ],
   "source": [
    "def get_binary_input(number):\n",
    "    binary = \"{0:0128b}\".format(number)\n",
    "    stack = [c for c in binary[binary.find('1'):][::-1]]\n",
    "\n",
    "    return stack\n",
    "\n",
    "for i in range(1, 12):\n",
    "    print(\"[+] binary stack for n =\", i, get_binary_input(i))"
   ]
  },
  {
   "cell_type": "markdown",
   "metadata": {},
   "source": [
    "Now let's build a finite automata which is going to accept binary strings of prime numbers until 11.\n",
    "A straightforward way would be to create a single final state ($ ip_0 $) and connect the\n",
    "sequence of ones and zeroes from the initial state ($ is_0 $) for each prime."
   ]
  },
  {
   "cell_type": "code",
   "execution_count": 36,
   "metadata": {
    "pycharm": {
     "name": "#%%\n"
    }
   },
   "outputs": [
    {
     "name": "stdout",
     "output_type": "stream",
     "text": [
      "[+] the eleven prime sieve\n",
      "states = {z3, z6, z1, z5, z7, z2, z0, z8, z4, ip0, is0} ; alphabet = {'0', '1'}\n",
      "is0 (0) -> {z0}\n",
      "is0 (1) -> {z4, z2, z6, z1}\n",
      "z0 (1) -> {ip0}\n",
      "z1 (1) -> {ip0}\n",
      "z2 (0) -> {z3}\n",
      "z3 (1) -> {ip0}\n",
      "z4 (1) -> {z5}\n",
      "z5 (1) -> {ip0}\n",
      "z6 (1) -> {z7}\n",
      "z7 (0) -> {z8}\n",
      "z8 (1) -> {ip0}\n",
      "initial = is0 ; final = {ip0}\n",
      "\n",
      "[+] automata plotter\n"
     ]
    },
    {
     "data": {
      "text/plain": "<IPython.lib.display.IFrame at 0x7ffb5279d400>",
      "text/html": "\n        <iframe\n            width=\"900\"\n            height=\"400\"\n            src=\"./img/eleven_sieve.pdf\"\n            frameborder=\"0\"\n            allowfullscreen\n        ></iframe>\n        "
     },
     "execution_count": 36,
     "metadata": {},
     "output_type": "execute_result"
    }
   ],
   "source": [
    "from zephod.finite import *\n",
    "\n",
    "initial, final = State(\"is0\"), State(\"ip0\")\n",
    "\n",
    "delta = FADelta()\n",
    "\n",
    "# number 2\n",
    "delta.add(initial, State(\"z0\"), {\"0\"})\n",
    "delta.add(State(\"z0\"), final, {\"1\"})\n",
    "\n",
    "# number 3\n",
    "delta.add(initial, State(\"z1\"), {\"1\"})\n",
    "delta.add(State(\"z1\"), final, {\"1\"})\n",
    "\n",
    "# number 5\n",
    "delta.add(initial, State(\"z2\"), {\"1\"})\n",
    "delta.add(State(\"z2\"), State(\"z3\"), {\"0\"})\n",
    "delta.add(State(\"z3\"), final, {\"1\"})\n",
    "\n",
    "# number 7\n",
    "delta.add(initial, State(\"z4\"), {\"1\"})\n",
    "delta.add(State(\"z4\"), State(\"z5\"), {\"1\"})\n",
    "delta.add(State(\"z5\"), final, {\"1\"})\n",
    "\n",
    "# number 11\n",
    "delta.add(initial, State(\"z6\"), {\"1\"})\n",
    "delta.add(State(\"z6\"), State(\"z7\"), {\"1\"})\n",
    "delta.add(State(\"z7\"), State(\"z8\"), {\"0\"})\n",
    "delta.add(State(\"z8\"), final, {\"1\"})\n",
    "\n",
    "eleven_sieve = FiniteAutomata(transition=delta, initial=initial, final={final})\n",
    "\n",
    "print(\"[+] the eleven prime sieve\")\n",
    "print(eleven_sieve)\n",
    "\n",
    "from utils.plotter import *\n",
    "from IPython.display import IFrame\n",
    "\n",
    "print(\"\\n[+] automata plotter\")\n",
    "\n",
    "AutomataPlotter.tikz(eleven_sieve, filename=\"eleven_sieve\", output=\"./img/\")\n",
    "IFrame(\"./img/eleven_sieve.pdf\", width=900, height=400)"
   ]
  },
  {
   "cell_type": "markdown",
   "metadata": {},
   "source": [
    "The resulting automata is a non deterministic (NFDA), since on the first state there are several\n",
    "transitions with the same symbol (\"1\") going to several others.\n",
    "\n",
    "We can use a prime sieve to verify that the automata works as expected."
   ]
  },
  {
   "cell_type": "code",
   "execution_count": 37,
   "metadata": {
    "pycharm": {
     "name": "#%%\n"
    }
   },
   "outputs": [
    {
     "name": "stdout",
     "output_type": "stream",
     "text": [
      "[+] checking prime number n = 2 accepted = True\n",
      "[+] checking prime number n = 3 accepted = True\n",
      "[+] checking composite number n = 4 accepted = False\n",
      "[+] checking prime number n = 5 accepted = True\n",
      "[+] checking composite number n = 6 accepted = False\n",
      "[+] checking prime number n = 7 accepted = True\n",
      "[+] checking composite number n = 8 accepted = False\n",
      "[+] checking composite number n = 9 accepted = False\n",
      "[+] checking composite number n = 10 accepted = False\n",
      "[+] checking prime number n = 11 accepted = True\n"
     ]
    }
   ],
   "source": [
    "from sympy import sieve\n",
    "\n",
    "for i in range(2, 12):\n",
    "    accepted = eleven_sieve.read(get_binary_input(i))\n",
    "    if i in sieve:\n",
    "        print(\"[+] checking prime number n =\", i, \"accepted =\", accepted)\n",
    "        assert accepted\n",
    "    else:\n",
    "        print(\"[+] checking composite number n =\", i, \"accepted =\", accepted)\n",
    "        assert not accepted"
   ]
  },
  {
   "cell_type": "markdown",
   "metadata": {
    "pycharm": {
     "name": "#%% md\n"
    }
   },
   "source": [
    "Given the construction method, what this automata is pretty much doing is a linear search into the\n",
    "prime numbers that are encoded on its transition function. It will try each one of the 4 branches\n",
    "that are coming out from $is_0$ until it gets to the final state, or until it rejects\n",
    "the string for composite numbers.\n",
    "\n",
    "You can also debug the evolution of the automata for a given string, along with the different paths\n",
    "that is taking when is non deterministic."
   ]
  },
  {
   "cell_type": "code",
   "execution_count": 38,
   "metadata": {
    "pycharm": {
     "name": "#%%\n"
    }
   },
   "outputs": [
    {
     "name": "stdout",
     "output_type": "stream",
     "text": [
      "-------------------------------------------------------------------------------\n",
      "\n",
      "initial (is0)         final {ip0}                                                                                       \n",
      "===============================================================================\n",
      "\n",
      "\u001B[94m\u001B[1m[C0] \u001B[0m\u001B[1m\u001B[93m1\u001B[0m \u001B[1m1\u001B[0m \u001B[1m0\u001B[0m \u001B[1m1\u001B[0m               \u001B[1m\u001B[92mis0                           \u001B[0m\n",
      "\n",
      "-------------------------------------------------------------------------------\n",
      "\u001B[94m\u001B[1m[C0] \u001B[0m\u001B[1m1\u001B[0m \u001B[1m\u001B[93m1\u001B[0m \u001B[1m0\u001B[0m \u001B[1m1\u001B[0m               \u001B[1m\u001B[92m[is0, 1(0)] to [z4, 1(1)]     \u001B[0m\n",
      "\u001B[94m\u001B[1m[C0] \u001B[0m\u001B[1m1\u001B[0m \u001B[1m\u001B[93m1\u001B[0m \u001B[1m0\u001B[0m \u001B[1m1\u001B[0m               \u001B[1m\u001B[92m[is0, 1(0)] to [z2, 1(1)]     \u001B[0m\n",
      "\u001B[94m\u001B[1m[C0] \u001B[0m\u001B[1m1\u001B[0m \u001B[1m\u001B[93m1\u001B[0m \u001B[1m0\u001B[0m \u001B[1m1\u001B[0m               \u001B[1m\u001B[92m[is0, 1(0)] to [z6, 1(1)]     \u001B[0m\n",
      "\u001B[94m\u001B[1m[C0] \u001B[0m\u001B[1m1\u001B[0m \u001B[1m\u001B[93m1\u001B[0m \u001B[1m0\u001B[0m \u001B[1m1\u001B[0m               \u001B[1m\u001B[92m[is0, 1(0)] to [z1, 1(1)]     \u001B[0m\n",
      "-------------------------------------------------------------------------------\n",
      "\u001B[94m\u001B[1m[C0] \u001B[0m\u001B[1m1\u001B[0m \u001B[1m1\u001B[0m \u001B[1m\u001B[93m0\u001B[0m \u001B[1m1\u001B[0m               \u001B[1m\u001B[92m[z4, 1(1)] to [z5, 0(2)]      \u001B[0m\n",
      "\u001B[94m\u001B[1m[C0] \u001B[0m\u001B[1m1\u001B[0m \u001B[1m1\u001B[0m \u001B[1m\u001B[93m0\u001B[0m \u001B[1m1\u001B[0m               \u001B[1m\u001B[92m[z6, 1(1)] to [z7, 0(2)]      \u001B[0m\n",
      "\u001B[94m\u001B[1m[C0] \u001B[0m\u001B[1m1\u001B[0m \u001B[1m1\u001B[0m \u001B[1m\u001B[93m0\u001B[0m \u001B[1m1\u001B[0m               \u001B[1m\u001B[92m[z1, 1(1)] to [ip0, 0(2)]     \u001B[0m\n",
      "-------------------------------------------------------------------------------\n",
      "\u001B[94m\u001B[1m[C0] \u001B[0m\u001B[1m1\u001B[0m \u001B[1m1\u001B[0m \u001B[1m0\u001B[0m \u001B[1m\u001B[93m1\u001B[0m               \u001B[1m\u001B[92m[z7, 0(2)] to [z8, 1(3)]      \u001B[0m\n",
      "-------------------------------------------------------------------------------\n",
      "\u001B[94m\u001B[1m[C0] \u001B[0m\u001B[1m1\u001B[0m \u001B[1m1\u001B[0m \u001B[1m0\u001B[0m \u001B[1m1\u001B[0m \u001B[1m\u001B[93m_\u001B[0m               \u001B[1m\u001B[92m[z8, 1(3)] to [ip0, _(4)]     \u001B[0m\n",
      "\n",
      "\u001B[94m\u001B[1m[C0] \u001B[0m\u001B[1m1\u001B[0m \u001B[1m1\u001B[0m \u001B[1m0\u001B[0m \u001B[1m1\u001B[0m \u001B[1m\u001B[93m_\u001B[0m               \u001B[1m\u001B[92m[z8, 1(3)] to [ip0, _(4)]     \u001B[0m\n",
      "\n",
      "accepted ---->  (True)   \n",
      "\n"
     ]
    }
   ],
   "source": [
    "eleven_sieve.debug(get_binary_input(11))"
   ]
  },
  {
   "cell_type": "markdown",
   "metadata": {
    "pycharm": {
     "name": "#%% md\n"
    }
   },
   "source": [
    "As a first step, we can convert this NFDA into a deterministic one, which is going to result in a\n",
    "DFA where each state will have at most 2 transitions. The efficiency to determine if a number\n",
    "is prime or not it will be much better on this case."
   ]
  },
  {
   "cell_type": "code",
   "execution_count": 39,
   "metadata": {
    "pycharm": {
     "name": "#%%\n"
    }
   },
   "outputs": [
    {
     "name": "stdout",
     "output_type": "stream",
     "text": [
      "\n",
      "[+] deterministic FA eleven sieve\n"
     ]
    },
    {
     "data": {
      "text/plain": "<IPython.lib.display.IFrame at 0x7ffb527c0860>",
      "text/html": "\n        <iframe\n            width=\"900\"\n            height=\"300\"\n            src=\"./img/deterministic_eleven_sieve.pdf\"\n            frameborder=\"0\"\n            allowfullscreen\n        ></iframe>\n        "
     },
     "execution_count": 39,
     "metadata": {},
     "output_type": "execute_result"
    }
   ],
   "source": [
    "print(\"\\n[+] deterministic FA eleven sieve\")\n",
    "\n",
    "deterministic_eleven_sieve = eleven_sieve.get_deterministic_automata()\n",
    "\n",
    "AutomataPlotter.tikz(deterministic_eleven_sieve, filename=\"deterministic_eleven_sieve\", output=\"./img/\")\n",
    "IFrame(\"./img/deterministic_eleven_sieve.pdf\", width=900, height=300)"
   ]
  },
  {
   "cell_type": "markdown",
   "metadata": {
    "pycharm": {
     "name": "#%% md\n"
    }
   },
   "source": [
    "Much better and cleaner. We can further minimize the automata to reduce the number of states."
   ]
  },
  {
   "cell_type": "code",
   "execution_count": 40,
   "outputs": [
    {
     "name": "stdout",
     "output_type": "stream",
     "text": [
      "\n",
      "[+] deterministic FA eleven sieve\n",
      "[+] checking prime number (minimal DFA) n = 2 accepted = True\n",
      "[+] checking prime number (minimal DFA) n = 3 accepted = True\n",
      "[+] checking composite number (minimal DFA) n = 4 accepted = False\n",
      "[+] checking prime number (minimal DFA) n = 5 accepted = True\n",
      "[+] checking composite number (minimal DFA) n = 6 accepted = False\n",
      "[+] checking prime number (minimal DFA) n = 7 accepted = True\n",
      "[+] checking composite number (minimal DFA) n = 8 accepted = False\n",
      "[+] checking composite number (minimal DFA) n = 9 accepted = False\n",
      "[+] checking composite number (minimal DFA) n = 10 accepted = False\n",
      "[+] checking prime number (minimal DFA) n = 11 accepted = True\n"
     ]
    }
   ],
   "source": [
    "print(\"\\n[+] deterministic FA eleven sieve\")\n",
    "\n",
    "minimal_eleven_sieve = deterministic_eleven_sieve.minimal()\n",
    "\n",
    "AutomataPlotter.tikz(minimal_eleven_sieve, filename=\"minimal_eleven_sieve\", output=\"./img/\")\n",
    "IFrame(\"./img/minimal_eleven_sieve.pdf\", width=900, height=300)\n",
    "\n",
    "for i in range(2, 12):\n",
    "    accepted = minimal_eleven_sieve.read(get_binary_input(i))\n",
    "    if i in sieve:\n",
    "        print(\"[+] checking prime number (minimal DFA) n =\", i, \"accepted =\", accepted)\n",
    "        assert accepted\n",
    "    else:\n",
    "        print(\"[+] checking composite number (minimal DFA) n =\", i, \"accepted =\", accepted)\n",
    "        assert not accepted"
   ],
   "metadata": {
    "collapsed": false,
    "pycharm": {
     "name": "#%%\n"
    }
   }
  },
  {
   "cell_type": "markdown",
   "source": [
    "It's also possible to get a grammar out of the FDA, which is going to generate the prime\n",
    "numbers we encoded on it."
   ],
   "metadata": {
    "collapsed": false
   }
  },
  {
   "cell_type": "code",
   "execution_count": 41,
   "outputs": [
    {
     "name": "stdout",
     "output_type": "stream",
     "text": [
      "[+] eleven sieve grammar\n",
      "T = {'0', '1'} ; N = {'Q', 'R', 'P'}\n",
      "S -> 0P\n",
      "S -> 1R\n",
      "R -> 0P\n",
      "R -> 1\n",
      "R -> 1Q\n",
      "Q -> 0P\n",
      "Q -> 1\n",
      "P -> 1\n",
      "\n",
      "[+] prime generation\n",
      "[+] number generated 2\n",
      "[+] number generated 3\n",
      "[+] number generated 7\n",
      "[+] number generated 5\n",
      "[+] number generated 11\n"
     ]
    }
   ],
   "source": [
    "from utils.language.grammar import *\n",
    "\n",
    "eleven_sieve_grammar = Grammar.build_from_finite_automata(minimal_eleven_sieve)\n",
    "\n",
    "print(\"[+] eleven sieve grammar\")\n",
    "print(eleven_sieve_grammar)\n",
    "\n",
    "print(\"\\n[+] prime generation\")\n",
    "for each in eleven_sieve_grammar.enumerate(length=4):\n",
    "    print(\"[+] number generated\", int(each[::-1], 2))"
   ],
   "metadata": {
    "collapsed": false,
    "pycharm": {
     "name": "#%%\n"
    }
   }
  },
  {
   "cell_type": "markdown",
   "source": [
    "### Moving it forward\n",
    "\n",
    "What if we keep applying this process for larger numbers? In fact, we could keep reusing previous\n",
    "minimized DFAs iteratively while adding new primes to its structure.\n",
    "\n",
    "Let's do it for all natural numbers up to $2^7$. We can easily automate the construction of the\n",
    "automata with the following methods using our external sieve to find prime numbers."
   ],
   "metadata": {
    "collapsed": false,
    "pycharm": {
     "name": "#%% md\n"
    }
   }
  },
  {
   "cell_type": "code",
   "execution_count": 42,
   "metadata": {
    "pycharm": {
     "name": "#%%\n"
    }
   },
   "outputs": [
    {
     "name": "stdout",
     "output_type": "stream",
     "text": [
      "\n",
      "[+] seven bit NFDA  sieve\n"
     ]
    },
    {
     "data": {
      "text/plain": "<IPython.lib.display.IFrame at 0x7ffb516f7c18>",
      "text/html": "\n        <iframe\n            width=\"900\"\n            height=\"1000\"\n            src=\"./img/nfda_seven_sieve.pdf\"\n            frameborder=\"0\"\n            allowfullscreen\n        ></iframe>\n        "
     },
     "execution_count": 42,
     "metadata": {},
     "output_type": "execute_result"
    }
   ],
   "source": [
    "class PrimeBuilder:\n",
    "    def __init__(self, final_state):\n",
    "        self.counter = 0\n",
    "        self.final_state = final_state\n",
    "\n",
    "    def get_new_state(self):\n",
    "        self.counter += 1\n",
    "        return State(\"zp\" + str(self.counter))\n",
    "\n",
    "    def state_factorization(self, initial_state, transition, n):\n",
    "        if n in sieve:\n",
    "            stack, state = get_binary_input(n), initial_state\n",
    "            for ic, b in enumerate(stack):\n",
    "                current_state = self.get_new_state()\n",
    "\n",
    "                if ic == 0:\n",
    "                    transition.add(state, current_state, b)\n",
    "                elif ic == len(stack) - 1:\n",
    "                    transition.add(state, self.final_state, b)\n",
    "                else:\n",
    "                    transition.add(state, current_state, b)\n",
    "\n",
    "                state = current_state\n",
    "\n",
    "    def build(self, initial_state, transition, lower, higher):\n",
    "        for lm in range(lower, higher):\n",
    "            self.state_factorization(initial_state, transition, lm)\n",
    "\n",
    "# get initial state from the previous automata\n",
    "initial = deterministic_eleven_sieve.initial\n",
    "final = deterministic_eleven_sieve.final.copy()\n",
    "\n",
    "prime_state = State(\"ip0\")\n",
    "final.add(prime_state)\n",
    "\n",
    "delta = copy.deepcopy(deterministic_eleven_sieve.transition)\n",
    "\n",
    "prime_builder = PrimeBuilder(final_state=prime_state)\n",
    "\n",
    "# add number from 11 to 64 (7 bits)\n",
    "prime_builder.build(initial, delta, 12, 129)\n",
    "\n",
    "# build the new automata with the additional primes\n",
    "nfda_seven_sieve = FiniteAutomata(transition=delta, initial=initial, final=final)\n",
    "\n",
    "print(\"\\n[+] seven bit NFDA  sieve\")\n",
    "\n",
    "AutomataPlotter.tikz(nfda_seven_sieve, filename=\"nfda_seven_sieve\", output=\"./img/\")\n",
    "IFrame(\"./img/nfda_seven_sieve.pdf\", width=900, height=1000)"
   ]
  },
  {
   "cell_type": "markdown",
   "source": [
    "Now we can apply a NFDA to an DFA conversion, followed by a minimization."
   ],
   "metadata": {
    "collapsed": false,
    "pycharm": {
     "name": "#%% md\n"
    }
   }
  },
  {
   "cell_type": "code",
   "execution_count": 43,
   "outputs": [
    {
     "name": "stdout",
     "output_type": "stream",
     "text": [
      "\n",
      "[+] deterministic DFA 7 bits sieve\n",
      "\n",
      "[+] minimal DFA 7 bits sieve\n"
     ]
    },
    {
     "data": {
      "text/plain": "<IPython.lib.display.IFrame at 0x7ffb51713f28>",
      "text/html": "\n        <iframe\n            width=\"900\"\n            height=\"500\"\n            src=\"./img/minimal_seven_sieve.pdf\"\n            frameborder=\"0\"\n            allowfullscreen\n        ></iframe>\n        "
     },
     "execution_count": 43,
     "metadata": {},
     "output_type": "execute_result"
    }
   ],
   "source": [
    "print(\"\\n[+] deterministic DFA 7 bits sieve\")\n",
    "\n",
    "dfa_seven_sieve = nfda_seven_sieve.get_deterministic_automata()\n",
    "\n",
    "AutomataPlotter.tikz(dfa_seven_sieve, filename=\"dfa_seven_sieve\", output=\"./img/\")\n",
    "IFrame(\"./img/dfa_seven_sieve.pdf\", width=900, height=500)\n",
    "\n",
    "print(\"\\n[+] minimal DFA 7 bits sieve\")\n",
    "\n",
    "minimal_seven_sieve = dfa_seven_sieve.minimal()\n",
    "\n",
    "AutomataPlotter.tikz(minimal_seven_sieve, filename=\"minimal_seven_sieve\", output=\"./img/\")\n",
    "IFrame(\"./img/minimal_seven_sieve.pdf\", width=900, height=500)"
   ],
   "metadata": {
    "collapsed": false,
    "pycharm": {
     "name": "#%%\n"
    }
   }
  },
  {
   "cell_type": "markdown",
   "source": [
    "Let's do some testing and generate 7 $bits$ primes to make sure everything is good."
   ],
   "metadata": {
    "collapsed": false,
    "pycharm": {
     "name": "#%% md\n"
    }
   }
  },
  {
   "cell_type": "code",
   "execution_count": 44,
   "outputs": [
    {
     "name": "stdout",
     "output_type": "stream",
     "text": [
      "\n",
      "[+] prime generation\n",
      "[+] number generated 2\n",
      "[+] number generated 3\n",
      "[+] number generated 13\n",
      "[+] number generated 19\n",
      "[+] number generated 71\n",
      "[+] number generated 23\n",
      "[+] number generated 89\n",
      "[+] number generated 115\n",
      "[+] number generated 59\n",
      "[+] number generated 55\n",
      "[+] number generated 109\n",
      "[+] number generated 21\n",
      "[+] number generated 81\n",
      "[+] number generated 25\n",
      "[+] number generated 41\n",
      "[+] number generated 43\n",
      "[+] number generated 5\n",
      "[+] number generated 113\n",
      "[+] number generated 31\n",
      "[+] number generated 77\n",
      "[+] number generated 61\n",
      "[+] number generated 127\n",
      "[+] number generated 101\n",
      "[+] number generated 95\n",
      "[+] number generated 7\n",
      "[+] number generated 117\n",
      "[+] number generated 83\n",
      "[+] number generated 107\n",
      "[+] number generated 67\n",
      "[+] number generated 53\n",
      "[+] number generated 73\n",
      "[+] number generated 37\n",
      "[+] number generated 47\n",
      "[+] number generated 79\n",
      "[+] number generated 29\n",
      "[+] number generated 11\n",
      "[+] number generated 85\n",
      "[+] number generated 97\n",
      "[+] number generated 17\n",
      "[+] number generated 103\n",
      "[+] number generated 51\n",
      "[+] number generated 99\n",
      "[+] number generated 27\n"
     ]
    }
   ],
   "source": [
    "seven_bits_sieve_grammar = Grammar.build_from_finite_automata(minimal_seven_sieve)\n",
    "\n",
    "print(\"\\n[+] prime generation\")\n",
    "for each in seven_bits_sieve_grammar.enumerate(length=7):\n",
    "    print(\"[+] number generated\", int(each[::-1], 2))\n",
    "\n",
    "for i in range(2, 2**7):\n",
    "    accepted = minimal_seven_sieve.read(get_binary_input(i))\n",
    "    if i in sieve:\n",
    "        assert accepted"
   ],
   "metadata": {
    "collapsed": false,
    "pycharm": {
     "name": "#%%\n"
    }
   }
  },
  {
   "cell_type": "markdown",
   "source": [
    "Indeed it is. We can compare the number of states and transitions for each automata in the building process."
   ],
   "metadata": {
    "collapsed": false,
    "pycharm": {
     "name": "#%% md\n"
    }
   }
  },
  {
   "cell_type": "code",
   "execution_count": 45,
   "outputs": [
    {
     "name": "stdout",
     "output_type": "stream",
     "text": [
      "[+] NDFA 7 bits sieve states = 144\n",
      "[+] NDFA 7 bits sieve transitions = 171\n",
      "\n",
      "[+] DFA 7 bits sieve states = 47\n",
      "[+] DFA 7 bits sieve transitions = 64\n",
      "\n",
      "[+] minimal DFA 7 bits sieve states = 26\n",
      "[+] minimal DFA 7 bits sieve transitions = 43\n",
      "\n"
     ]
    }
   ],
   "source": [
    "def automata_info(name, fa: Automata):\n",
    "    print(\"[+]\", name, \"states =\", len(fa.transition.states))\n",
    "    delta_function = fa.transition.transitions\n",
    "    transitions = sum([len(delta_function[state]) for state in delta_function])\n",
    "    print(\"[+]\", name, \"transitions =\", transitions)\n",
    "    print()\n",
    "\n",
    "automata_info(\"NDFA 7 bits sieve\", nfda_seven_sieve)\n",
    "automata_info(\"DFA 7 bits sieve\", dfa_seven_sieve)\n",
    "automata_info(\"minimal DFA 7 bits sieve\", minimal_seven_sieve)"
   ],
   "metadata": {
    "collapsed": false,
    "pycharm": {
     "name": "#%%\n"
    }
   }
  },
  {
   "cell_type": "markdown",
   "source": [
    "The NDFA-DFA conversion / minimization process are working as a compression mechanism\n",
    "to encode the binary representation of prime numbers up to a given $n \\in \\mathbb{N}$.\n",
    "\n",
    "Regardless of how amusing might be to encode primes in this way, it would be interesting\n",
    "to compare this technique with others. Let's push it forward and create a sieve up to $2^{16}$ for that.\n",
    "The NDFA-DFA / minimization should be done in batches for a better scaling of the algorithms.\n",
    "\n",
    "Before that, just realized that it's a bit annoying to write \"NDFA-DFA / minimization process\" each\n",
    "time I have to reference it. And is not a very descriptive name. From now on, I'll call it\n",
    "\"the learning process\", which is an universal process by which the number of states of the automata\n",
    "is minimized without losing its correctness and the transitions are reorganized to support\n",
    "this new structure.\n",
    "\n",
    "The behavior has some similarities to neural networks, with the difference that the transitions (i.e\n",
    "connections) of the automata might drastically change on each learning step. It's more evidence on\n",
    "how powerful this type of architectures is when learning patterns in data.\n",
    "\n",
    "As an example, take a look at what happens with even numbers, those with the least significant digit\n",
    "equal to 0. They go through a state such that, if the next digit is not 1, the string is not accepted. In\n",
    "other words, the automata learned that even numbers $>2$ are not primes, and is discarding them only with\n",
    "2 transitions. This behavior also reminds me to some characteristic of decision trees.\n",
    "\n",
    "Anyways, chit-chatting."
   ],
   "metadata": {
    "collapsed": false,
    "pycharm": {
     "name": "#%% md\n"
    }
   }
  },
  {
   "cell_type": "code",
   "execution_count": null,
   "outputs": [
    {
     "name": "stdout",
     "output_type": "stream",
     "text": [
      "[+] total runs 88\n",
      "[+] running batch 0 between 1 750 ...\n",
      "[+] running batch 1 between 751 1500 ...\n",
      "[+] running batch 2 between 1501 2250 ...\n",
      "[+] running batch 3 between 2251 3000 ...\n",
      "[+] running batch 4 between 3001 3750 ...\n",
      "[+] running batch 5 between 3751 4500 ...\n",
      "[+] running batch 6 between 4501 5250 ...\n",
      "[+] running batch 7 between 5251 6000 ...\n",
      "[+] running batch 8 between 6001 6750 ...\n",
      "[+] running batch 9 between 6751 7500 ...\n",
      "[+] running batch 10 between 7501 8250 ...\n",
      "[+] running batch 11 between 8251 9000 ...\n",
      "[+] running batch 12 between 9001 9750 ...\n",
      "[+] running batch 13 between 9751 10500 ...\n",
      "[+] running batch 14 between 10501 11250 ...\n",
      "[+] running batch 15 between 11251 12000 ...\n",
      "[+] running batch 16 between 12001 12750 ...\n",
      "[+] running batch 17 between 12751 13500 ...\n",
      "[+] running batch 18 between 13501 14250 ...\n",
      "[+] running batch 19 between 14251 15000 ...\n",
      "[+] running batch 20 between 15001 15750 ...\n",
      "[+] running batch 21 between 15751 16500 ...\n",
      "[+] running batch 22 between 16501 17250 ...\n",
      "[+] running batch 23 between 17251 18000 ...\n",
      "[+] running batch 24 between 18001 18750 ...\n",
      "[+] running batch 25 between 18751 19500 ...\n",
      "[+] running batch 26 between 19501 20250 ...\n",
      "[+] running batch 27 between 20251 21000 ...\n",
      "[+] running batch 28 between 21001 21750 ...\n",
      "[+] running batch 29 between 21751 22500 ...\n",
      "[+] running batch 30 between 22501 23250 ...\n",
      "[+] running batch 31 between 23251 24000 ...\n",
      "[+] running batch 32 between 24001 24750 ...\n",
      "[+] running batch 33 between 24751 25500 ...\n",
      "[+] running batch 34 between 25501 26250 ...\n",
      "[+] running batch 35 between 26251 27000 ...\n",
      "[+] running batch 36 between 27001 27750 ...\n",
      "[+] running batch 37 between 27751 28500 ...\n",
      "[+] running batch 38 between 28501 29250 ...\n",
      "[+] running batch 39 between 29251 30000 ...\n",
      "[+] running batch 40 between 30001 30750 ...\n",
      "[+] running batch 41 between 30751 31500 ...\n",
      "[+] running batch 42 between 31501 32250 ...\n",
      "[+] running batch 43 between 32251 33000 ...\n",
      "[+] running batch 44 between 33001 33750 ...\n",
      "[+] running batch 45 between 33751 34500 ...\n",
      "[+] running batch 46 between 34501 35250 ...\n",
      "[+] running batch 47 between 35251 36000 ...\n",
      "[+] running batch 48 between 36001 36750 ...\n",
      "[+] running batch 49 between 36751 37500 ...\n",
      "[+] running batch 50 between 37501 38250 ...\n",
      "[+] running batch 51 between 38251 39000 ...\n",
      "[+] running batch 52 between 39001 39750 ...\n",
      "[+] running batch 53 between 39751 40500 ...\n",
      "[+] running batch 54 between 40501 41250 ...\n",
      "[+] running batch 55 between 41251 42000 ...\n",
      "[+] running batch 56 between 42001 42750 ...\n",
      "[+] running batch 57 between 42751 43500 ...\n",
      "[+] running batch 58 between 43501 44250 ...\n",
      "[+] running batch 59 between 44251 45000 ...\n",
      "[+] running batch 60 between 45001 45750 ...\n",
      "[+] running batch 61 between 45751 46500 ...\n",
      "[+] running batch 62 between 46501 47250 ...\n",
      "[+] running batch 63 between 47251 48000 ...\n",
      "[+] running batch 64 between 48001 48750 ...\n",
      "[+] running batch 65 between 48751 49500 ...\n",
      "[+] running batch 66 between 49501 50250 ...\n",
      "[+] running batch 67 between 50251 51000 ...\n",
      "[+] running batch 68 between 51001 51750 ...\n",
      "[+] running batch 69 between 51751 52500 ...\n",
      "[+] running batch 70 between 52501 53250 ...\n",
      "[+] running batch 71 between 53251 54000 ...\n",
      "[+] running batch 72 between 54001 54750 ...\n",
      "[+] running batch 73 between 54751 55500 ...\n",
      "[+] running batch 74 between 55501 56250 ...\n",
      "[+] running batch 75 between 56251 57000 ...\n",
      "[+] running batch 76 between 57001 57750 ...\n",
      "[+] running batch 77 between 57751 58500 ...\n",
      "[+] running batch 78 between 58501 59250 ...\n",
      "[+] running batch 79 between 59251 60000 ...\n",
      "[+] running batch 80 between 60001 60750 ...\n",
      "[+] running batch 81 between 60751 61500 ...\n",
      "[+] running batch 82 between 61501 62250 ...\n",
      "[+] running batch 83 between 62251 63000 ...\n",
      "[+] running batch 84 between 63001 63750 ...\n"
     ]
    }
   ],
   "source": [
    "import pickle\n",
    "\n",
    "def fda_batch_update(max_value = 2**12):\n",
    "    # 1000 new primes per batch\n",
    "    batch_size = 750\n",
    "\n",
    "    initial_state = State(\"ie0\")\n",
    "    final_state = State(\"ip0\")\n",
    "\n",
    "    builder = PrimeBuilder(final_state=final_state)\n",
    "\n",
    "    transition = FADelta()\n",
    "    final_set = {prime_state}\n",
    "\n",
    "    runs = int(max_value / batch_size) + 1\n",
    "    print(\"[+] total runs\", runs)\n",
    "\n",
    "    for j in range(0, runs):\n",
    "        lower = j * batch_size + 1\n",
    "        limit = min((j + 1) * batch_size, max_value + 1)\n",
    "\n",
    "        print(\"[+] running batch\", j, \"between\", lower, limit, \"...\")\n",
    "        builder.build(initial_state, transition, lower, limit)\n",
    "\n",
    "        # get NDFA and minimize it\n",
    "        nfsm = FiniteAutomata(transition=transition, initial=initial_state, final=final_set)\n",
    "        minimal = nfsm.minimal()\n",
    "\n",
    "        # update final states\n",
    "        final_set = minimal.final\n",
    "        final_set.add(prime_state)\n",
    "\n",
    "        # recover initial state\n",
    "        initial_state = minimal.initial\n",
    "\n",
    "        # get previous transition function\n",
    "        transition = minimal.transition\n",
    "\n",
    "    return minimal\n",
    "\n",
    "max_sieve_value = 2**16\n",
    "sixteen_sieve = fda_batch_update(max_value=max_sieve_value)\n",
    "\n",
    "automata_info(\"minimal DFA 16 bits sieve\", sixteen_sieve)\n",
    "pickle.dump(sixteen_sieve, open(\"sixteen_sieve_minimal.pkl\", \"wb\"))\n",
    "\n",
    "for i in range(2, max_sieve_value):\n",
    "    accepted = sixteen_sieve.read(get_binary_input(i))\n",
    "    if i in sieve:\n",
    "        assert accepted"
   ],
   "metadata": {
    "collapsed": false,
    "pycharm": {
     "name": "#%%\n",
     "is_executing": true
    }
   }
  },
  {
   "cell_type": "code",
   "execution_count": null,
   "outputs": [],
   "source": [],
   "metadata": {
    "collapsed": false,
    "pycharm": {
     "name": "#%%\n"
    }
   }
  }
 ],
 "metadata": {
  "kernelspec": {
   "display_name": "Python 3",
   "language": "python",
   "name": "python3"
  },
  "language_info": {
   "codemirror_mode": {
    "name": "ipython",
    "version": 3
   },
   "file_extension": ".py",
   "mimetype": "text/x-python",
   "name": "python",
   "nbconvert_exporter": "python",
   "pygments_lexer": "ipython3",
   "version": "3.6.9"
  }
 },
 "nbformat": 4,
 "nbformat_minor": 1
}
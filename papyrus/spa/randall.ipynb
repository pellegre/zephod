{
 "cells": [
  {
   "cell_type": "markdown",
   "metadata": {},
   "source": [
    "# Sieve of Randall\n",
    "\n",
    "## Introduction\n",
    "\n",
    "![RIST](./img/crypto.jpg)\n",
    "\n",
    "## Abstract\n",
    "\n",
    "Last time I spoke with Randall, he was quite interested in a particular type of machines that\n",
    "initially were designed to solve a problem and while doing so they were catalyzing its own\n",
    "construction. He was pretty convinced that, as long as enough energy was around, **all** solutions\n",
    "to solvable problems can be found in that way. I couldn't find flaws in his logic, and we pursued an\n",
    "exploration.\n",
    "\n",
    "In fact, he pointed out that the machine will create (or better said, discover) new problems\n",
    "on it’s way and solve them with the sole purpose of collecting and storing energy. And again,\n",
    "he cleverly made a guess that different components of the machine will establish a symbiotic\n",
    "relation to parallelize the resolution of the problems and to reuse previous solutions when\n",
    "necessary.\n",
    "\n",
    "That’s how the concept of RIST was born, which was the most natural way to study the behavior\n",
    "of different parts of the machine over time. Something overlooked back then was the possibility\n",
    "that the machine became aware of itself, in the sense that a RIST will develop enough\n",
    "computing power to formulate a question about its nature of existence.\n",
    "\n",
    "Randall once joked about that. “ZP! What if the machine now knows that something exists?\n",
    "Is that a *bug*?”. And yes, consciousness was initially treated as a bug and it was used as\n",
    "a stopping criteria for whatever problem was being solved.\n",
    "\n",
    "But as a good friend of mine always says, a bug, it’s a feature. So we opened a new branch where\n",
    "we let consciousness develop freely in the machine whenever it was possible.\n",
    "\n",
    "Among other things, we found that the development of consciousness was quite different on\n",
    "each iteration, depending on the initial problem. But regardless of that genesis trigger,\n",
    "we found a set of problems that appeared over and over on every conscious instance of\n",
    "the machine that we created. We didn’t probe it, but we had a good intuition that the\n",
    "discovery of those problems is a necessary condition for consciousness to exist.\n",
    "\n",
    "Since we were skipping our arts class at that time, we couldn’t think of a more creative name\n",
    "than “Necessary Problems” for them. It was later changed to “Natural Problems” because no one\n",
    "worked on a proof for that yet. Not even the [machine](https://www.youtube.com/watch?v=fn1R-5p_j5c) $\\zeta$.\n",
    "\n",
    "And here it is Randy, look at what you did !\n",
    "\n",
    "## Prime Sieve Automata (PSA)\n",
    "\n",
    "### Handcrafting the logic\n",
    "\n",
    "Let's consider a language with an alphabet of \"1\" and \"0\" where natural numbers are expressed in the\n",
    "base-2 numeral system. For example, 2 it's represented as \"10\" and 11 as \"1011\". The automata\n",
    "we'll build is going to read the strings starting at the right most bit (least significant bit)\n",
    "of the string.\n",
    "\n",
    "In general, the following function converts a natural number into the binary\n",
    "representation we'll work with."
   ]
  },
  {
   "cell_type": "code",
   "execution_count": 1,
   "metadata": {
    "pycharm": {
     "name": "#%%\n"
    },
    "scrolled": true
   },
   "outputs": [
    {
     "name": "stdout",
     "output_type": "stream",
     "text": [
      "[+] binary stack for n = 1 ['1']\n",
      "[+] binary stack for n = 2 ['0', '1']\n",
      "[+] binary stack for n = 3 ['1', '1']\n",
      "[+] binary stack for n = 4 ['0', '0', '1']\n",
      "[+] binary stack for n = 5 ['1', '0', '1']\n",
      "[+] binary stack for n = 6 ['0', '1', '1']\n",
      "[+] binary stack for n = 7 ['1', '1', '1']\n",
      "[+] binary stack for n = 8 ['0', '0', '0', '1']\n",
      "[+] binary stack for n = 9 ['1', '0', '0', '1']\n",
      "[+] binary stack for n = 10 ['0', '1', '0', '1']\n",
      "[+] binary stack for n = 11 ['1', '1', '0', '1']\n"
     ]
    }
   ],
   "source": [
    "def get_binary_input(number):\n",
    "    binary = \"{0:0128b}\".format(number)\n",
    "    stack = [c for c in binary[binary.find('1'):][::-1]]\n",
    "\n",
    "    return stack\n",
    "\n",
    "for i in range(1, 12):\n",
    "    print(\"[+] binary stack for n =\", i, get_binary_input(i))"
   ]
  },
  {
   "cell_type": "markdown",
   "metadata": {},
   "source": [
    "Now let's build a finite automata which is going to accept binary strings of prime numbers until 11.\n",
    "A straightforward way would be to create a single final state ($ ip_0 $) and connect the\n",
    "sequence of ones and zeroes from the initial state ($ is_0 $) for each prime."
   ]
  },
  {
   "cell_type": "code",
   "execution_count": 2,
   "metadata": {
    "pycharm": {
     "name": "#%%\n"
    },
    "scrolled": false
   },
   "outputs": [
    {
     "name": "stdout",
     "output_type": "stream",
     "text": [
      "[+] the eleven prime sieve\n",
      "states = {z5, ip0, is0, z3, z8, z4, z1, z2, z7, z0, z6} ; alphabet = {'1', '0'}\n",
      "is0 (0) -> {z0}\n",
      "is0 (1) -> {z2, z4, z6, z1}\n",
      "z0 (1) -> {ip0}\n",
      "z1 (1) -> {ip0}\n",
      "z2 (0) -> {z3}\n",
      "z3 (1) -> {ip0}\n",
      "z4 (1) -> {z5}\n",
      "z5 (1) -> {ip0}\n",
      "z6 (1) -> {z7}\n",
      "z7 (0) -> {z8}\n",
      "z8 (1) -> {ip0}\n",
      "initial = is0 ; final = {ip0}\n",
      "\n",
      "[+] automata plotter\n"
     ]
    },
    {
     "data": {
      "text/plain": "<IPython.lib.display.IFrame at 0x7f8e3048c3c8>",
      "text/html": "\n        <iframe\n            width=\"900\"\n            height=\"400\"\n            src=\"./img/eleven_sieve.pdf\"\n            frameborder=\"0\"\n            allowfullscreen\n        ></iframe>\n        "
     },
     "execution_count": 2,
     "metadata": {},
     "output_type": "execute_result"
    }
   ],
   "source": [
    "from zephod.finite import *\n",
    "\n",
    "initial, final = State(\"is0\"), State(\"ip0\")\n",
    "\n",
    "delta = FADelta()\n",
    "\n",
    "# number 2\n",
    "delta.add(initial, State(\"z0\"), {\"0\"})\n",
    "delta.add(State(\"z0\"), final, {\"1\"})\n",
    "\n",
    "# number 3\n",
    "delta.add(initial, State(\"z1\"), {\"1\"})\n",
    "delta.add(State(\"z1\"), final, {\"1\"})\n",
    "\n",
    "# number 5\n",
    "delta.add(initial, State(\"z2\"), {\"1\"})\n",
    "delta.add(State(\"z2\"), State(\"z3\"), {\"0\"})\n",
    "delta.add(State(\"z3\"), final, {\"1\"})\n",
    "\n",
    "# number 7\n",
    "delta.add(initial, State(\"z4\"), {\"1\"})\n",
    "delta.add(State(\"z4\"), State(\"z5\"), {\"1\"})\n",
    "delta.add(State(\"z5\"), final, {\"1\"})\n",
    "\n",
    "# number 11\n",
    "delta.add(initial, State(\"z6\"), {\"1\"})\n",
    "delta.add(State(\"z6\"), State(\"z7\"), {\"1\"})\n",
    "delta.add(State(\"z7\"), State(\"z8\"), {\"0\"})\n",
    "delta.add(State(\"z8\"), final, {\"1\"})\n",
    "\n",
    "eleven_sieve = FiniteAutomata(transition=delta, initial=initial, final={final})\n",
    "\n",
    "print(\"[+] the eleven prime sieve\")\n",
    "print(eleven_sieve)\n",
    "\n",
    "from utils.plotter import *\n",
    "from IPython.display import IFrame\n",
    "\n",
    "print(\"\\n[+] automata plotter\")\n",
    "\n",
    "AutomataPlotter.tikz(eleven_sieve, filename=\"eleven_sieve\", output=\"./img/\")\n",
    "IFrame(\"./img/eleven_sieve.pdf\", width=900, height=400)"
   ]
  },
  {
   "cell_type": "markdown",
   "metadata": {},
   "source": [
    "The resulting automata is a non deterministic (NFDA), since on the first state there are several\n",
    "transitions with the same symbol (\"1\") going to several others.\n",
    "\n",
    "We can use a prime sieve to verify that the automata works as expected."
   ]
  },
  {
   "cell_type": "code",
   "execution_count": 3,
   "metadata": {
    "pycharm": {
     "name": "#%%\n"
    },
    "scrolled": true
   },
   "outputs": [
    {
     "name": "stdout",
     "output_type": "stream",
     "text": [
      "[+] checking prime number n = 2 accepted = True\n",
      "[+] checking prime number n = 3 accepted = True\n",
      "[+] checking composite number n = 4 accepted = False\n",
      "[+] checking prime number n = 5 accepted = True\n",
      "[+] checking composite number n = 6 accepted = False\n",
      "[+] checking prime number n = 7 accepted = True\n",
      "[+] checking composite number n = 8 accepted = False\n",
      "[+] checking composite number n = 9 accepted = False\n",
      "[+] checking composite number n = 10 accepted = False\n",
      "[+] checking prime number n = 11 accepted = True\n"
     ]
    }
   ],
   "source": [
    "from sympy import sieve\n",
    "\n",
    "for i in range(2, 12):\n",
    "    accepted = eleven_sieve.read(get_binary_input(i))\n",
    "    if i in sieve:\n",
    "        print(\"[+] checking prime number n =\", i, \"accepted =\", accepted)\n",
    "        assert accepted\n",
    "    else:\n",
    "        print(\"[+] checking composite number n =\", i, \"accepted =\", accepted)\n",
    "        assert not accepted"
   ]
  },
  {
   "cell_type": "markdown",
   "metadata": {
    "pycharm": {
     "name": "#%% md\n"
    }
   },
   "source": [
    "Given the construction method, this automata is performing a linear search into the\n",
    "prime numbers that are encoded on its transition function. It will try each one of the 4 branches\n",
    "that are coming out from $is_0$ until it gets to the final state, or until it rejects\n",
    "the string for composite numbers.\n",
    "\n",
    "You can also debug the evolution of the automata for a given string, along with the different paths\n",
    "that is taking when is non deterministic."
   ]
  },
  {
   "cell_type": "code",
   "execution_count": 4,
   "metadata": {
    "pycharm": {
     "name": "#%%\n"
    },
    "scrolled": false
   },
   "outputs": [
    {
     "name": "stdout",
     "output_type": "stream",
     "text": [
      "-------------------------------------------------------------------------------\n",
      "\n",
      "initial (is0)         final {ip0}                                                                                       \n",
      "===============================================================================\n",
      "\n",
      "\u001B[94m\u001B[1m[C0] \u001B[0m\u001B[1m\u001B[93m1\u001B[0m \u001B[1m1\u001B[0m \u001B[1m0\u001B[0m \u001B[1m1\u001B[0m               \u001B[1m\u001B[92mis0                           \u001B[0m\n",
      "\n",
      "-------------------------------------------------------------------------------\n",
      "\u001B[94m\u001B[1m[C0] \u001B[0m\u001B[1m1\u001B[0m \u001B[1m\u001B[93m1\u001B[0m \u001B[1m0\u001B[0m \u001B[1m1\u001B[0m               \u001B[1m\u001B[92m[is0, 1(0)] to [z4, 1(1)]     \u001B[0m\n",
      "\u001B[94m\u001B[1m[C0] \u001B[0m\u001B[1m1\u001B[0m \u001B[1m\u001B[93m1\u001B[0m \u001B[1m0\u001B[0m \u001B[1m1\u001B[0m               \u001B[1m\u001B[92m[is0, 1(0)] to [z2, 1(1)]     \u001B[0m\n",
      "\u001B[94m\u001B[1m[C0] \u001B[0m\u001B[1m1\u001B[0m \u001B[1m\u001B[93m1\u001B[0m \u001B[1m0\u001B[0m \u001B[1m1\u001B[0m               \u001B[1m\u001B[92m[is0, 1(0)] to [z1, 1(1)]     \u001B[0m\n",
      "\u001B[94m\u001B[1m[C0] \u001B[0m\u001B[1m1\u001B[0m \u001B[1m\u001B[93m1\u001B[0m \u001B[1m0\u001B[0m \u001B[1m1\u001B[0m               \u001B[1m\u001B[92m[is0, 1(0)] to [z6, 1(1)]     \u001B[0m\n",
      "-------------------------------------------------------------------------------\n",
      "\u001B[94m\u001B[1m[C0] \u001B[0m\u001B[1m1\u001B[0m \u001B[1m1\u001B[0m \u001B[1m\u001B[93m0\u001B[0m \u001B[1m1\u001B[0m               \u001B[1m\u001B[92m[z1, 1(1)] to [ip0, 0(2)]     \u001B[0m\n",
      "\u001B[94m\u001B[1m[C0] \u001B[0m\u001B[1m1\u001B[0m \u001B[1m1\u001B[0m \u001B[1m\u001B[93m0\u001B[0m \u001B[1m1\u001B[0m               \u001B[1m\u001B[92m[z4, 1(1)] to [z5, 0(2)]      \u001B[0m\n",
      "\u001B[94m\u001B[1m[C0] \u001B[0m\u001B[1m1\u001B[0m \u001B[1m1\u001B[0m \u001B[1m\u001B[93m0\u001B[0m \u001B[1m1\u001B[0m               \u001B[1m\u001B[92m[z6, 1(1)] to [z7, 0(2)]      \u001B[0m\n",
      "-------------------------------------------------------------------------------\n",
      "\u001B[94m\u001B[1m[C0] \u001B[0m\u001B[1m1\u001B[0m \u001B[1m1\u001B[0m \u001B[1m0\u001B[0m \u001B[1m\u001B[93m1\u001B[0m               \u001B[1m\u001B[92m[z7, 0(2)] to [z8, 1(3)]      \u001B[0m\n",
      "-------------------------------------------------------------------------------\n",
      "\u001B[94m\u001B[1m[C0] \u001B[0m\u001B[1m1\u001B[0m \u001B[1m1\u001B[0m \u001B[1m0\u001B[0m \u001B[1m1\u001B[0m \u001B[1m\u001B[93m_\u001B[0m               \u001B[1m\u001B[92m[z8, 1(3)] to [ip0, _(4)]     \u001B[0m\n",
      "\n",
      "\u001B[94m\u001B[1m[C0] \u001B[0m\u001B[1m1\u001B[0m \u001B[1m1\u001B[0m \u001B[1m0\u001B[0m \u001B[1m1\u001B[0m \u001B[1m\u001B[93m_\u001B[0m               \u001B[1m\u001B[92m[z8, 1(3)] to [ip0, _(4)]     \u001B[0m\n",
      "\n",
      "accepted ---->  (True)   \n",
      "\n"
     ]
    }
   ],
   "source": [
    "eleven_sieve.debug(get_binary_input(11))"
   ]
  },
  {
   "cell_type": "markdown",
   "metadata": {
    "pycharm": {
     "name": "#%% md\n"
    }
   },
   "source": [
    "As a first step, we can convert this NFDA into a deterministic one, which is going to result in a\n",
    "DFA where each state will have at most 2 transitions."
   ]
  },
  {
   "cell_type": "code",
   "execution_count": 5,
   "metadata": {
    "pycharm": {
     "name": "#%%\n"
    },
    "scrolled": true
   },
   "outputs": [
    {
     "name": "stdout",
     "output_type": "stream",
     "text": [
      "\n",
      "[+] deterministic FA eleven sieve\n"
     ]
    },
    {
     "data": {
      "text/plain": "<IPython.lib.display.IFrame at 0x7f8e13699fd0>",
      "text/html": "\n        <iframe\n            width=\"900\"\n            height=\"300\"\n            src=\"./img/deterministic_eleven_sieve.pdf\"\n            frameborder=\"0\"\n            allowfullscreen\n        ></iframe>\n        "
     },
     "execution_count": 5,
     "metadata": {},
     "output_type": "execute_result"
    }
   ],
   "source": [
    "print(\"\\n[+] deterministic FA eleven sieve\")\n",
    "\n",
    "deterministic_eleven_sieve = eleven_sieve.get_deterministic_automata()\n",
    "\n",
    "AutomataPlotter.tikz(deterministic_eleven_sieve, filename=\"deterministic_eleven_sieve\", output=\"./img/\")\n",
    "IFrame(\"./img/deterministic_eleven_sieve.pdf\", width=900, height=300)"
   ]
  },
  {
   "cell_type": "markdown",
   "metadata": {
    "pycharm": {
     "name": "#%% md\n"
    }
   },
   "source": [
    "Much better and cleaner. We can further minimize the automata to reduce the number of states."
   ]
  },
  {
   "cell_type": "code",
   "execution_count": 6,
   "metadata": {
    "pycharm": {
     "name": "#%%\n"
    },
    "scrolled": false
   },
   "outputs": [
    {
     "name": "stdout",
     "output_type": "stream",
     "text": [
      "\n",
      "[+] deterministic FA eleven sieve\n"
     ]
    },
    {
     "data": {
      "text/plain": "<IPython.lib.display.IFrame at 0x7f8e30cb1438>",
      "text/html": "\n        <iframe\n            width=\"900\"\n            height=\"300\"\n            src=\"./img/minimal_eleven_sieve.pdf\"\n            frameborder=\"0\"\n            allowfullscreen\n        ></iframe>\n        "
     },
     "execution_count": 6,
     "metadata": {},
     "output_type": "execute_result"
    }
   ],
   "source": [
    "print(\"\\n[+] deterministic FA eleven sieve\")\n",
    "\n",
    "minimal_eleven_sieve = deterministic_eleven_sieve.minimal()\n",
    "\n",
    "AutomataPlotter.tikz(minimal_eleven_sieve, filename=\"minimal_eleven_sieve\", output=\"./img/\")\n",
    "IFrame(\"./img/minimal_eleven_sieve.pdf\", width=900, height=300)"
   ]
  },
  {
   "cell_type": "code",
   "execution_count": 7,
   "metadata": {
    "pycharm": {
     "name": "#%%\n"
    }
   },
   "outputs": [
    {
     "name": "stdout",
     "output_type": "stream",
     "text": [
      "[+] checking prime number (minimal DFA) n = 2 accepted = True\n",
      "[+] checking prime number (minimal DFA) n = 3 accepted = True\n",
      "[+] checking composite number (minimal DFA) n = 4 accepted = False\n",
      "[+] checking prime number (minimal DFA) n = 5 accepted = True\n",
      "[+] checking composite number (minimal DFA) n = 6 accepted = False\n",
      "[+] checking prime number (minimal DFA) n = 7 accepted = True\n",
      "[+] checking composite number (minimal DFA) n = 8 accepted = False\n",
      "[+] checking composite number (minimal DFA) n = 9 accepted = False\n",
      "[+] checking composite number (minimal DFA) n = 10 accepted = False\n",
      "[+] checking prime number (minimal DFA) n = 11 accepted = True\n"
     ]
    }
   ],
   "source": [
    "for i in range(2, 12):\n",
    "    accepted = minimal_eleven_sieve.read(get_binary_input(i))\n",
    "    if i in sieve:\n",
    "        print(\"[+] checking prime number (minimal DFA) n =\", i, \"accepted =\", accepted)\n",
    "        assert accepted\n",
    "    else:\n",
    "        print(\"[+] checking composite number (minimal DFA) n =\", i, \"accepted =\", accepted)\n",
    "        assert not accepted"
   ]
  },
  {
   "cell_type": "markdown",
   "metadata": {
    "pycharm": {
     "name": "#%% md\n"
    }
   },
   "source": [
    "It's also possible to get a grammar out of the FDA, which is going to generate the prime\n",
    "numbers we encoded."
   ]
  },
  {
   "cell_type": "code",
   "execution_count": 8,
   "metadata": {
    "pycharm": {
     "name": "#%%\n"
    },
    "scrolled": true
   },
   "outputs": [
    {
     "name": "stdout",
     "output_type": "stream",
     "text": [
      "[+] eleven sieve grammar\n",
      "T = {'1', '0'} ; N = {'P', 'R', 'Q'}\n",
      "S -> 1Q\n",
      "S -> 0P\n",
      "R -> 1\n",
      "R -> 0P\n",
      "Q -> 1\n",
      "Q -> 1R\n",
      "Q -> 0P\n",
      "P -> 1\n",
      "\n",
      "[+] prime generation\n",
      "[+] number generated 3\n",
      "[+] number generated 2\n",
      "[+] number generated 11\n",
      "[+] number generated 5\n",
      "[+] number generated 7\n"
     ]
    }
   ],
   "source": [
    "from utils.language.grammar import *\n",
    "\n",
    "eleven_sieve_grammar = Grammar.build_from_finite_automata(minimal_eleven_sieve)\n",
    "\n",
    "print(\"[+] eleven sieve grammar\")\n",
    "print(eleven_sieve_grammar)\n",
    "\n",
    "print(\"\\n[+] prime generation\")\n",
    "for each in eleven_sieve_grammar.enumerate(length=4):\n",
    "    print(\"[+] number generated\", int(each[::-1], 2))"
   ]
  },
  {
   "cell_type": "markdown",
   "metadata": {
    "pycharm": {
     "name": "#%% md\n"
    }
   },
   "source": [
    "### Moving it forward\n",
    "\n",
    "What if we keep applying this process for larger numbers? In fact, we could keep reusing previous\n",
    "minimized DFAs iteratively while adding new primes to its structure.\n",
    "\n",
    "Let's do it for all natural numbers up to $2^7$. We can easily automate the construction of the\n",
    "automata with the following methods using our external sieve to find prime numbers."
   ]
  },
  {
   "cell_type": "code",
   "execution_count": 9,
   "metadata": {
    "pycharm": {
     "name": "#%%\n"
    },
    "scrolled": false
   },
   "outputs": [
    {
     "name": "stdout",
     "output_type": "stream",
     "text": [
      "\n",
      "[+] seven bit NFDA  sieve\n"
     ]
    },
    {
     "data": {
      "text/plain": "<IPython.lib.display.IFrame at 0x7f8e13672dd8>",
      "text/html": "\n        <iframe\n            width=\"900\"\n            height=\"1000\"\n            src=\"./img/nfda_seven_sieve.pdf\"\n            frameborder=\"0\"\n            allowfullscreen\n        ></iframe>\n        "
     },
     "execution_count": 9,
     "metadata": {},
     "output_type": "execute_result"
    }
   ],
   "source": [
    "class PrimeBuilder:\n",
    "    def __init__(self, final_state):\n",
    "        self.counter = 0\n",
    "        self.final_state = final_state\n",
    "\n",
    "    def get_new_state(self):\n",
    "        self.counter += 1\n",
    "        return State(\"zp\" + str(self.counter))\n",
    "\n",
    "    def state_factorization(self, initial_state, transition, n):\n",
    "        if n in sieve:\n",
    "            stack, state = get_binary_input(n), initial_state\n",
    "            for ic, b in enumerate(stack):\n",
    "                current_state = self.get_new_state()\n",
    "\n",
    "                if ic == 0:\n",
    "                    transition.add(state, current_state, b)\n",
    "                elif ic == len(stack) - 1:\n",
    "                    transition.add(state, self.final_state, b)\n",
    "                else:\n",
    "                    transition.add(state, current_state, b)\n",
    "\n",
    "                state = current_state\n",
    "\n",
    "    def build(self, initial_state, transition, lower, higher):\n",
    "        for lm in range(lower, higher):\n",
    "            self.state_factorization(initial_state, transition, lm)\n",
    "\n",
    "# get initial state from the previous automata\n",
    "initial = deterministic_eleven_sieve.initial\n",
    "final = deterministic_eleven_sieve.final.copy()\n",
    "\n",
    "prime_state = State(\"ip0\")\n",
    "final.add(prime_state)\n",
    "\n",
    "delta = copy.deepcopy(deterministic_eleven_sieve.transition)\n",
    "\n",
    "prime_builder = PrimeBuilder(final_state=prime_state)\n",
    "\n",
    "# add number from 11 to 64 (7 bits)\n",
    "prime_builder.build(initial, delta, 12, 129)\n",
    "\n",
    "# build the new automata with the additional primes\n",
    "nfda_seven_sieve = FiniteAutomata(transition=delta, initial=initial, final=final)\n",
    "\n",
    "print(\"\\n[+] seven bit NFDA  sieve\")\n",
    "\n",
    "AutomataPlotter.tikz(nfda_seven_sieve, filename=\"nfda_seven_sieve\", output=\"./img/\")\n",
    "IFrame(\"./img/nfda_seven_sieve.pdf\", width=900, height=1000)"
   ]
  },
  {
   "cell_type": "markdown",
   "metadata": {
    "pycharm": {
     "name": "#%% md\n"
    }
   },
   "source": [
    "Now we can apply a NFDA to an DFA conversion, followed by a minimization."
   ]
  },
  {
   "cell_type": "code",
   "execution_count": 10,
   "metadata": {
    "pycharm": {
     "name": "#%%\n"
    },
    "scrolled": false
   },
   "outputs": [
    {
     "name": "stdout",
     "output_type": "stream",
     "text": [
      "\n",
      "[+] deterministic DFA 7 bits sieve\n"
     ]
    },
    {
     "data": {
      "text/plain": "<IPython.lib.display.IFrame at 0x7f8e136be828>",
      "text/html": "\n        <iframe\n            width=\"900\"\n            height=\"500\"\n            src=\"./img/dfa_seven_sieve.pdf\"\n            frameborder=\"0\"\n            allowfullscreen\n        ></iframe>\n        "
     },
     "execution_count": 10,
     "metadata": {},
     "output_type": "execute_result"
    }
   ],
   "source": [
    "print(\"\\n[+] deterministic DFA 7 bits sieve\")\n",
    "\n",
    "dfa_seven_sieve = nfda_seven_sieve.get_deterministic_automata()\n",
    "\n",
    "AutomataPlotter.tikz(dfa_seven_sieve, filename=\"dfa_seven_sieve\", output=\"./img/\")\n",
    "IFrame(\"./img/dfa_seven_sieve.pdf\", width=900, height=500)"
   ]
  },
  {
   "cell_type": "code",
   "execution_count": 11,
   "metadata": {
    "scrolled": false
   },
   "outputs": [
    {
     "name": "stdout",
     "output_type": "stream",
     "text": [
      "\n",
      "[+] minimal DFA 7 bits sieve\n"
     ]
    },
    {
     "data": {
      "text/plain": "<IPython.lib.display.IFrame at 0x7f8dfa289400>",
      "text/html": "\n        <iframe\n            width=\"900\"\n            height=\"500\"\n            src=\"./img/minimal_seven_sieve.pdf\"\n            frameborder=\"0\"\n            allowfullscreen\n        ></iframe>\n        "
     },
     "execution_count": 11,
     "metadata": {},
     "output_type": "execute_result"
    }
   ],
   "source": [
    "print(\"\\n[+] minimal DFA 7 bits sieve\")\n",
    "\n",
    "minimal_seven_sieve = dfa_seven_sieve.minimal()\n",
    "\n",
    "AutomataPlotter.tikz(minimal_seven_sieve, filename=\"minimal_seven_sieve\", output=\"./img/\")\n",
    "IFrame(\"./img/minimal_seven_sieve.pdf\", width=900, height=500)"
   ]
  },
  {
   "cell_type": "markdown",
   "metadata": {
    "pycharm": {
     "name": "#%% md\n"
    }
   },
   "source": [
    "Let's do some testing and get a grammar to generate 7 $bits$ primes to make sure everything is good."
   ]
  },
  {
   "cell_type": "code",
   "execution_count": 12,
   "metadata": {
    "pycharm": {
     "name": "#%%\n"
    },
    "scrolled": true
   },
   "outputs": [
    {
     "name": "stdout",
     "output_type": "stream",
     "text": [
      "\n",
      "[+] prime generation\n",
      "101 71 3 2 61 89 29 63 115 7 37 119 15 127 75 41 17 107 9 95 43 79 31 97 59 5 55 49 19 53 113 109 87 67 83 73 11 51 125 103 23 69 47 13 39 \n"
     ]
    }
   ],
   "source": [
    "seven_bits_sieve_grammar = Grammar.build_from_finite_automata(minimal_seven_sieve)\n",
    "\n",
    "print(\"\\n[+] prime generation\")\n",
    "for each in seven_bits_sieve_grammar.enumerate(length=7):\n",
    "    print(int(each[::-1], 2), end=' ')\n",
    "print()\n",
    "\n",
    "for i in range(2, 2**7):\n",
    "    accepted = minimal_seven_sieve.read(get_binary_input(i))\n",
    "    if i in sieve:\n",
    "        assert accepted\n",
    "    else:\n",
    "        assert not accepted"
   ]
  },
  {
   "cell_type": "markdown",
   "metadata": {
    "pycharm": {
     "name": "#%% md\n"
    }
   },
   "source": [
    "Indeed it is. We can compare the number of states and transitions for each automata."
   ]
  },
  {
   "cell_type": "code",
   "execution_count": 13,
   "metadata": {
    "pycharm": {
     "name": "#%%\n"
    },
    "scrolled": true
   },
   "outputs": [
    {
     "name": "stdout",
     "output_type": "stream",
     "text": [
      "[+] NDFA 7 bits sieve states = 144\n",
      "[+] NDFA 7 bits sieve final states = 3\n",
      "[+] NDFA 7 bits sieve transitions = 171\n",
      "\n",
      "[+] DFA 7 bits sieve states = 47\n",
      "[+] DFA 7 bits sieve final states = 13\n",
      "[+] DFA 7 bits sieve transitions = 64\n",
      "\n",
      "[+] minimal DFA 7 bits sieve states = 26\n",
      "[+] minimal DFA 7 bits sieve final states = 9\n",
      "[+] minimal DFA 7 bits sieve transitions = 43\n",
      "\n"
     ]
    }
   ],
   "source": [
    "def automata_info(name, fa: Automata):\n",
    "    print(\"[+]\", name, \"states =\", len(fa.transition.states))\n",
    "    print(\"[+]\", name, \"final states =\", len(fa.final))\n",
    "    delta_function = fa.transition.transitions\n",
    "    transitions = sum([len(delta_function[state]) for state in delta_function])\n",
    "    print(\"[+]\", name, \"transitions =\", transitions)\n",
    "    print()\n",
    "\n",
    "automata_info(\"NDFA 7 bits sieve\", nfda_seven_sieve)\n",
    "automata_info(\"DFA 7 bits sieve\", dfa_seven_sieve)\n",
    "automata_info(\"minimal DFA 7 bits sieve\", minimal_seven_sieve)"
   ]
  },
  {
   "cell_type": "markdown",
   "metadata": {
    "pycharm": {
     "name": "#%% md\n"
    }
   },
   "source": [
    "The NDFA-DFA conversion / minimization process is working as a compression mechanism\n",
    "to encode the prime numbers up to a given $n \\in \\mathbb{N}$.\n",
    "\n",
    "Regardless of how amusing might be to encode primes in this way, it would be interesting\n",
    "to see how efficient the encoding is. Let's push it forward and create a sieve up to $2^{16}$ for that.\n",
    "The NDFA-DFA / minimization should be done in batches for a better scaling of the algorithms.\n",
    "\n",
    "Before that, I just realized that it's a bit annoying to write \"NDFA-DFA / minimization process\" each\n",
    "time I have to reference it. And is not a very descriptive name. From now on, I'll call it\n",
    "\"the learning process\", which is an universal process where the number of states of the automata\n",
    "is minimized without losing its correctness and the transitions are reorganized to support\n",
    "this new structure.\n",
    "\n",
    "The behavior has some similarities to neural networks, with the difference that the transitions (i.e\n",
    "connections) of the automata might drastically change on each learning step. It's more evidence on\n",
    "how powerful this type of architectures is when learning patterns in data.\n",
    "\n",
    "As an example, take a look at what happens with even numbers, those with the least significant digit\n",
    "equal to 0. They go through a state such that, if the next digit is not 1, the string is not accepted. In\n",
    "other words, the automata learned that even numbers $>2$ are not primes, and is discarding them after\n",
    "2 transitions. This is an emergent behavior which also reminds me to some characteristic\n",
    "of decision trees.\n",
    "\n",
    "Anyways."
   ]
  },
  {
   "cell_type": "code",
   "execution_count": 14,
   "metadata": {
    "pycharm": {
     "name": "#%%\n"
    },
    "scrolled": true
   },
   "outputs": [
    {
     "name": "stdout",
     "output_type": "stream",
     "text": [
      "[+] loading sixteen_sieve_minimal.pkl\n",
      "[+] minimal DFA 16 bits sieve states = 3084\n",
      "[+] minimal DFA 16 bits sieve final states = 516\n",
      "[+] minimal DFA 16 bits sieve transitions = 5966\n",
      "\n"
     ]
    }
   ],
   "source": [
    "import pickle\n",
    "import os.path\n",
    "\n",
    "def fda_batch_update(max_value = 2**12):\n",
    "    # primes per batch\n",
    "    batch_size = 750\n",
    "\n",
    "    initial_state = State(\"ie0\")\n",
    "    final_state = State(\"ip0\")\n",
    "\n",
    "    builder = PrimeBuilder(final_state=final_state)\n",
    "\n",
    "    transition = FADelta()\n",
    "    final_set = {prime_state}\n",
    "\n",
    "    runs = int(max_value / batch_size) + 1\n",
    "    print(\"[+] total runs\", runs)\n",
    "\n",
    "    for j in range(0, runs):\n",
    "        lower = j * batch_size + 1\n",
    "        limit = min((j + 1) * batch_size, max_value + 1)\n",
    "\n",
    "        print(\"[+] running batch\", j, \"between\", lower, limit, \"...\")\n",
    "        builder.build(initial_state, transition, lower, limit)\n",
    "\n",
    "        # get NDFA and minimize it\n",
    "        nfsm = FiniteAutomata(transition=transition, initial=initial_state, final=final_set)\n",
    "        minimal = nfsm.minimal()\n",
    "\n",
    "        # update final states\n",
    "        final_set = minimal.final\n",
    "        final_set.add(prime_state)\n",
    "\n",
    "        # recover initial state\n",
    "        initial_state = minimal.initial\n",
    "\n",
    "        # get previous transition function\n",
    "        transition = minimal.transition\n",
    "\n",
    "    return minimal\n",
    "\n",
    "sixteen_sieve_file = \"sixteen_sieve_minimal.pkl\"\n",
    "max_sieve_value = 2**16\n",
    "\n",
    "if os.path.isfile(sixteen_sieve_file):\n",
    "    print(\"[+] loading\", sixteen_sieve_file)\n",
    "    sixteen_sieve = pickle.load(open(sixteen_sieve_file, \"rb\"))\n",
    "\n",
    "else:\n",
    "    sixteen_sieve = fda_batch_update(max_value=max_sieve_value)\n",
    "    pickle.dump(sixteen_sieve, open(sixteen_sieve_file, \"wb\"))\n",
    "\n",
    "automata_info(\"minimal DFA 16 bits sieve\", sixteen_sieve)\n",
    "\n",
    "for i in range(2, max_sieve_value):\n",
    "    accepted = sixteen_sieve.read(get_binary_input(i))\n",
    "    if i in sieve:\n",
    "        assert accepted\n",
    "    else:\n",
    "        assert not accepted"
   ]
  },
  {
   "cell_type": "markdown",
   "metadata": {},
   "source": [
    "So for the 16 $bits$ sieve we got around $3000$ states and almost double of transitions. As a reference, the\n",
    "amount of primes up to $2^16$ is $6542$.\n",
    "\n",
    "How should we encode the automata to use the less space possible? First of all, we need to encode which of the states are final,\n",
    "so that would require a 3000 $bits$ array, where we mark with 1 the final states and with 0 the rest and\n",
    "additional 3000 $bits$ to indicate how much nodes actually are.\n",
    "\n",
    "For the transitions, an adjacency matrix of $3000 \\times 3000$ $bits$ would do the trick, but that just seems\n",
    "overkill. We only have 2 transitions coming out from each node, and that's all we need to know. What we can do is\n",
    "to index each node and store a binary array $[s_{00}s_{01},\\:s_{10}s_{11},\\:... ,\\:s_{n0}s_{n1}]$ where $s_{i0}$\n",
    "is the index of the left child of $s_i$ and $s_{i1}$ is the right child.\n",
    "\n",
    "Since (in this case) we have $3000$ states, we'll need $12$ $bits$ to encode each index, and since each state has\n",
    "at most $2$ children, we would need $24 \\times 3000 \\; bits + 6000 \\; bits = 78000\\;bits$ (give or take).\n",
    "\n",
    "This could be improved, since some states might have multiple predecessors. Something\n",
    "like [Huffman Coding](https://en.wikipedia.org/wiki/Huffman_coding) can be useful to save some space. The nodes\n",
    "which have more than one predecessors will be encoded with the shortest binary strings.\n",
    "\n",
    "For the sake of completeness, let's write a Huffman encoding algorithm for the automata to evaluate it for\n",
    "this case."
   ]
  },
  {
   "cell_type": "code",
   "execution_count": 15,
   "metadata": {
    "pycharm": {
     "name": "#%%\n"
    },
    "scrolled": true
   },
   "outputs": [
    {
     "name": "stdout",
     "output_type": "stream",
     "text": [
      "[+] transition array for 7 bits sieve ['f0', 'f4', 'null', 'null', 'f14', 'f17', 'f16', 'f23', 'f8', 'f22', 'null', 'f20', 'f13', 'f24', 'f10', 'f25', 'null', 'f0', 'f1', 'f0', 'f6', 'f11', 'f9', 'f21', 'f2', 'f10', 'f16', 'f20', 'f0', 'f24', 'null', 'f24', 'f0', 'null', 'f12', 'f18', 'null', 'f0', 'f1', 'f0', 'f2', 'f23', 'null', 'f0', 'f0', 'null', 'f3', 'f7', 'f5', 'f19', 'null', 'f24']\n"
     ]
    }
   ],
   "source": [
    "import networkx\n",
    "import queue\n",
    "import sys\n",
    "\n",
    "from networkx.drawing.nx_agraph import graphviz_layout\n",
    "\n",
    "sys.setrecursionlimit(10000)\n",
    "\n",
    "# this function will make an array with states and its children (i.e. transition function)\n",
    "def get_serialized_array_from_fda(fda: FiniteAutomata):\n",
    "    def get_state_type(s):\n",
    "        if s in fda.final:\n",
    "            return \"final\"\n",
    "        elif s == fda.initial:\n",
    "            return \"initial\"\n",
    "        else:\n",
    "            return \"none\"\n",
    "\n",
    "    transition_array = list()\n",
    "\n",
    "    for state in fda.g.nodes:\n",
    "        assert len(fda.g[state]) <= 2\n",
    "        children = fda.g[state]\n",
    "        symbol_transition = {children[s][\"symbol\"][0]:s for s in children}\n",
    "        transition_array += [str(symbol_transition[sym]) if sym in symbol_transition else \"null\" for sym in ['0', '1'] ]\n",
    "\n",
    "    return transition_array\n",
    "\n",
    "print(\"[+] transition array for 7 bits sieve\", get_serialized_array_from_fda(minimal_seven_sieve))"
   ]
  },
  {
   "cell_type": "markdown",
   "metadata": {
    "pycharm": {
     "name": "#%% md\n"
    }
   },
   "source": [
    "The serialized format is as follow : $(s_{i0}, s_{i1})$, where one of the states could be nulled. Now we can\n",
    "transform this serialized automata into a Huffman coding scheme."
   ]
  },
  {
   "cell_type": "code",
   "execution_count": 16,
   "metadata": {
    "pycharm": {
     "name": "#%%\n"
    },
    "scrolled": true
   },
   "outputs": [
    {
     "name": "stdout",
     "output_type": "stream",
     "text": [
      "[+] compressed binary string (Huffman) 68782 bits\n"
     ]
    }
   ],
   "source": [
    "def automata_huffman_tree(transition_array, priority_queue=None, tree=None):\n",
    "    def is_single_state(s):\n",
    "        return '|' not in s\n",
    "\n",
    "    if priority_queue is None:\n",
    "        priority_queue = queue.PriorityQueue()\n",
    "        [priority_queue.put((c, s)) for s, c in {s: transition_array.count(s) for s in transition_array}.items()]\n",
    "\n",
    "        tree = networkx.DiGraph()\n",
    "\n",
    "    if priority_queue.qsize() > 1:\n",
    "        left = priority_queue.get()\n",
    "        right = priority_queue.get()\n",
    "\n",
    "        # parent\n",
    "        parent = left[1] + \"|\" + right[1]\n",
    "        tree.add_node(parent)\n",
    "\n",
    "        # children\n",
    "        if is_single_state(left[1]):\n",
    "            tree.add_node(left[1], state=left[1])\n",
    "        else:\n",
    "            tree.add_node(left[1])\n",
    "\n",
    "        if is_single_state(right[1]):\n",
    "            tree.add_node(right[1], state=right[1])\n",
    "        else:\n",
    "            tree.add_node(right[1])\n",
    "\n",
    "        ## add symbols\n",
    "        tree.add_edge(parent, left[1], symbol='0')\n",
    "        tree.add_edge(parent, right[1], symbol='1')\n",
    "\n",
    "        priority_queue.put((left[0] + right[0], parent))\n",
    "        return automata_huffman_tree(transition_array, priority_queue, tree)\n",
    "\n",
    "    else:\n",
    "        return tree\n",
    "\n",
    "def plot_tree(tree):\n",
    "    edges_labels = networkx.get_edge_attributes(tree, \"symbol\")\n",
    "    node_labels = networkx.get_node_attributes(tree, \"state\")\n",
    "    pos = graphviz_layout(tree, prog=\"dot\")\n",
    "\n",
    "    networkx.draw(tree, pos=pos, labels=node_labels)\n",
    "    networkx.draw_networkx_edge_labels(tree, pos, edges_labels)\n",
    "\n",
    "def get_root_node(tree):\n",
    "    return next(iter(networkx.topological_sort(tree)))\n",
    "\n",
    "def automata_huffman_code(huffman_tree, node=None, huffman_code=None, stack=None):\n",
    "    is_root = False\n",
    "\n",
    "    if huffman_code is None:\n",
    "        node = get_root_node(huffman_tree)\n",
    "        huffman_code = dict()\n",
    "        stack = list()\n",
    "\n",
    "        is_root = True\n",
    "\n",
    "    children = huffman_tree[node]\n",
    "    if len(children):\n",
    "        for child in children:\n",
    "            child_stack = stack + [children[child][\"symbol\"]]\n",
    "            automata_huffman_code(huffman_tree, child, huffman_code, child_stack)\n",
    "\n",
    "    if \"state\" in huffman_tree.nodes[node]:\n",
    "        huffman_code[huffman_tree.nodes[node][\"state\"]] = ''.join(stack)\n",
    "\n",
    "    if is_root:\n",
    "        return huffman_code\n",
    "\n",
    "sixteen_serialized_array = get_serialized_array_from_fda(sixteen_sieve)\n",
    "sixteen_sieve_huffman_tree = automata_huffman_tree(sixteen_serialized_array)\n",
    "huffman_code_sixteen_sieve = automata_huffman_code(sixteen_sieve_huffman_tree)\n",
    "\n",
    "binary_serialization = ''.join([huffman_code_sixteen_sieve[s] for s in sixteen_serialized_array])\n",
    "print(\"[+] compressed binary string (Huffman)\", len(binary_serialization) + 6000, \"bits\")"
   ]
  },
  {
   "cell_type": "markdown",
   "metadata": {
    "pycharm": {
     "name": "#%% md\n"
    }
   },
   "source": [
    "There is no much gain as expected, since most of the nodes have only 1 predecessor and very few have a high\n",
    "frequency in the serialized string. In fact, this is almost like encoding primes as a big binary string and\n",
    "tagging prime numbers with \"1\" digits and composites with \"0\". For that case we would have $65536$ $bits$\n",
    "and can be further improved by half eliminating even numbers (and a bit more taking out multiples\n",
    "of higher primes).\n",
    "\n",
    "My guess is that this encoding can be improved using a graph transversal pattern by which\n",
    "state duplication can be avoided by exploiting the binary-tree-like structure the graph has in some of its\n",
    "parts. Maybe something to revisit later.\n",
    "\n",
    "## On The Search of Autonomy\n",
    "\n",
    "As you might noted, we have been using an external sieve to enumerate primes and use it as a feed to the\n",
    "construction of the automata. That means the building process is not self-contained and will have the same\n",
    "limitations than the sieve we are using.\n",
    "\n",
    "But this is not strictly necessary, because given a $PSA(n)$ that encodes the primes up to $n$ within\n",
    "its structure, already has all the information needed to determine if $n + 1$ is a prime number or not.\n",
    "Even more, the $PSA(n)$ can be used as a primality test for all natural numbers between $n$ and $n^2$.\n",
    "\n",
    "And this open room for parallelization, since several automatas can be built in parallel for numbers\n",
    "between $n$ and $n^2$ using the $PSA(n)$, and eventually merge all of them as part of\n",
    "the learning process to obtain $PSA(n^2)$. This process can go on forever.\n",
    "\n",
    "What we need to find is al algorithm that, given a binary representation of a natural number $m$ within\n",
    "$n$ and $n^2$, it should find if there is a prime factor within the $PSA(n)$. If not, $m$ is a prime\n",
    "and additional states and transitions should be added to $PSA(n)$ to incorporate it.\n",
    "\n",
    "If natural numbers were molecules, prime numbers are atoms. In the same way that different\n",
    "combinations of atoms give rise to a plethora of molecules, every natural number can be written as a\n",
    "product of prime numbers.\n",
    "\n",
    "The integration of a new prime to the structure of a $PSA$ is analogous to the incorporation of\n",
    "a new atom in a biological machine. New connections (molecules) can be made, which are going to increase\n",
    "the number of states (configurations) in the [machine](https://www.youtube.com/watch?v=aDaOgu2CQtI).\n",
    "\n",
    "### Primality test\n",
    "\n",
    "A possible strategy would be to transverse the graph using a breadth-first search to iterate through all\n",
    "nodes that are a final state. The path to those nodes are the binary representation of a prime number and\n",
    "we need to check if the input binary string ($n$) is divisible by any of them. If not, and we checked for\n",
    "all primes smaller than $\\sqrt n$, then $n$ is prime.\n",
    "\n",
    "Since is a breadth-first search we'll perform the search starting with the smallest primes first. In this\n",
    "way, we'll discard multiples of 2 and 3 and 5 pretty quickly.\n",
    "\n",
    "Given two natural numbers $n$ and $m$ we would like to know if $n$ is divisible by $m$. In other\n",
    "words, we should check whether $n \\equiv 0 \\; mod\\;m$ or not. The following driver takes a $PSA(n)$\n",
    "and uses it as a primality test and dynamically encodes new primes on it between a given range. The driver\n",
    "if only doing additions, modulus and power by 2 operations and uses a queue and a set."
   ]
  },
  {
   "cell_type": "code",
   "execution_count": 17,
   "metadata": {
    "pycharm": {
     "name": "#%%\n"
    },
    "scrolled": true
   },
   "outputs": [],
   "source": [
    "class PrimeSieve:\n",
    "    def __init__(self, fda, n):\n",
    "        # PSA(n)\n",
    "        self.automata = fda\n",
    "        self.n = n\n",
    "\n",
    "class QueueState:\n",
    "    def __init__(self, power, prime, state):\n",
    "        self.power, self.prime, self.state = power, prime, state\n",
    "\n",
    "class DriverBuilder:\n",
    "    def __init__(self, primes):\n",
    "        # automata states\n",
    "        self.counter = 0\n",
    "        self.initial_state = State(\"is0\")\n",
    "        self.final_state = State(\"ip0\")\n",
    "\n",
    "        # prime numbers\n",
    "        self.primes = primes\n",
    "\n",
    "    def get_new_state(self):\n",
    "        self.counter += 1\n",
    "        return State(\"zp\" + str(self.counter))\n",
    "\n",
    "    def state_factorization(self, transition, prime):\n",
    "        stack, state = get_binary_input(prime), self.initial_state\n",
    "        for ic, b in enumerate(stack):\n",
    "            current_state = self.get_new_state()\n",
    "\n",
    "            if ic == 0:\n",
    "                transition.add(state, current_state, b)\n",
    "            elif ic == len(stack) - 1:\n",
    "                transition.add(state, self.final_state, b)\n",
    "            else:\n",
    "                transition.add(state, current_state, b)\n",
    "\n",
    "            state = current_state\n",
    "\n",
    "    def build(self):\n",
    "        transition = FADelta()\n",
    "\n",
    "        for p in self.primes:\n",
    "            self.state_factorization(transition, p)\n",
    "\n",
    "        return FiniteAutomata(initial=self.initial_state, final={self.final_state},\n",
    "                              transition=transition).minimal()\n",
    "\n",
    "class PrimeSieveDriver:\n",
    "    def __init__(self, psa: PrimeSieve, low, high):\n",
    "        # PSA(n)\n",
    "        self.psa = psa\n",
    "\n",
    "        # limits\n",
    "        self.low = low\n",
    "        self.high = high\n",
    "\n",
    "        # final set of primes numbers (initially all numbers are here, and composite are removed)\n",
    "        self.primes = set(range(low, high + 1))\n",
    "\n",
    "        # FDA\n",
    "        self.fda = None\n",
    "\n",
    "    def run(self):\n",
    "        # initialize queue\n",
    "        node_queue = queue.Queue()\n",
    "        node_queue.put(QueueState(power=0, prime=0, state=self.psa.automata.initial))\n",
    "\n",
    "        # prime and current power\n",
    "        while node_queue.qsize():\n",
    "            # get node\n",
    "            queue_state = node_queue.get()\n",
    "\n",
    "            # check if we are in a final state\n",
    "            if queue_state.state in self.psa.automata.final:\n",
    "                # this is a prime number\n",
    "                for p in filter(lambda m: m in self.primes, range(self.low, self.high + 1)):\n",
    "                    if p % queue_state.prime == 0:\n",
    "                        self.primes.remove(p)\n",
    "\n",
    "            # get branches\n",
    "            branches = self.psa.automata.g[queue_state.state]\n",
    "            children = {s:branches[s][\"symbol\"][0] for s in branches}\n",
    "\n",
    "            for child in children:\n",
    "                # get digit\n",
    "                digit = int(children[child])\n",
    "\n",
    "                # get current values\n",
    "                power, prime = queue_state.power, queue_state.prime\n",
    "\n",
    "                # visit new child\n",
    "                if digit:\n",
    "                    node_queue.put(QueueState(power=power + 1, prime=2**power + prime, state=child))\n",
    "                else:\n",
    "                    node_queue.put(QueueState(power=power + 1, prime=prime, state=child))\n",
    "\n",
    "\n",
    "        builder = DriverBuilder(primes=self.primes)\n",
    "        self.fda = builder.build()\n",
    "\n",
    "def merge_automatas(one, other):\n",
    "    merged_delta = copy.deepcopy(one.transition)\n",
    "    base = one.transition.max_state().number + 1\n",
    "\n",
    "    other_delta = other.transition\n",
    "    final_states = one.final\n",
    "    for state in other_delta.transitions:\n",
    "        for transition in other_delta.transitions[state]:\n",
    "            source, target = transition.source, transition.target\n",
    "\n",
    "            # propagate transition\n",
    "            new_transition = copy.deepcopy(transition)\n",
    "            new_transition.source = State(source.prefix + str(source.number + base))\n",
    "            new_transition.target = State(target.prefix + str(target.number + base))\n",
    "\n",
    "            # get final states\n",
    "            if source in other.final:\n",
    "                final_states.add(new_transition.source)\n",
    "\n",
    "            if target in other.final:\n",
    "                final_states.add(new_transition.target)\n",
    "\n",
    "            # special case for the initial transition\n",
    "            if state == other.initial:\n",
    "                new_transition.source = one.initial\n",
    "\n",
    "            merged_delta.add_transition(new_transition)\n",
    "\n",
    "    return FiniteAutomata(initial=one.initial, final=final_states, transition=merged_delta)"
   ]
  },
  {
   "cell_type": "markdown",
   "metadata": {
    "pycharm": {
     "name": "#%% md\n"
    }
   },
   "source": [
    "As an example easy to visualize, let's use the driver using the $PSA(n=11)$ we built before to obtain the set\n",
    "of primes between 12 and 121."
   ]
  },
  {
   "cell_type": "code",
   "execution_count": 18,
   "metadata": {},
   "outputs": [
    {
     "data": {
      "text/plain": "<IPython.lib.display.IFrame at 0x7f8e13628ac8>",
      "text/html": "\n        <iframe\n            width=\"900\"\n            height=\"300\"\n            src=\"./img/minimal_eleven_sieve.pdf\"\n            frameborder=\"0\"\n            allowfullscreen\n        ></iframe>\n        "
     },
     "execution_count": 18,
     "metadata": {},
     "output_type": "execute_result"
    }
   ],
   "source": [
    "AutomataPlotter.tikz(minimal_eleven_sieve, filename=\"minimal_eleven_sieve\", output=\"./img/\")\n",
    "IFrame(\"./img/minimal_eleven_sieve.pdf\", width=900, height=300)"
   ]
  },
  {
   "cell_type": "code",
   "execution_count": 19,
   "metadata": {
    "pycharm": {
     "name": "#%%\n"
    },
    "scrolled": false
   },
   "outputs": [
    {
     "data": {
      "text/plain": "<IPython.lib.display.IFrame at 0x7f8e1376bfd0>",
      "text/html": "\n        <iframe\n            width=\"900\"\n            height=\"500\"\n            src=\"./img/prime_sieve_drive_a.pdf\"\n            frameborder=\"0\"\n            allowfullscreen\n        ></iframe>\n        "
     },
     "execution_count": 19,
     "metadata": {},
     "output_type": "execute_result"
    }
   ],
   "source": [
    "initial_sieve = PrimeSieve(fda=minimal_eleven_sieve, n=11)\n",
    "\n",
    "prime_sieve_a = PrimeSieveDriver(initial_sieve, 12, 66)\n",
    "prime_sieve_b = PrimeSieveDriver(initial_sieve, 67, 121)\n",
    "\n",
    "prime_sieve_a.run()\n",
    "prime_sieve_b.run()\n",
    "\n",
    "AutomataPlotter.tikz(prime_sieve_a.fda, filename=\"prime_sieve_drive_a\", output=\"./img/\")\n",
    "IFrame(\"./img/prime_sieve_drive_a.pdf\", width=900, height=500)"
   ]
  },
  {
   "cell_type": "code",
   "execution_count": 20,
   "outputs": [
    {
     "data": {
      "text/plain": "<IPython.lib.display.IFrame at 0x7f8e1364aef0>",
      "text/html": "\n        <iframe\n            width=\"900\"\n            height=\"500\"\n            src=\"./img/prime_sieve_drive_b.pdf\"\n            frameborder=\"0\"\n            allowfullscreen\n        ></iframe>\n        "
     },
     "execution_count": 20,
     "metadata": {},
     "output_type": "execute_result"
    }
   ],
   "source": [
    "AutomataPlotter.tikz(prime_sieve_b.fda, filename=\"prime_sieve_drive_b\", output=\"./img/\")\n",
    "IFrame(\"./img/prime_sieve_drive_b.pdf\", width=900, height=500)"
   ],
   "metadata": {
    "collapsed": false,
    "pycharm": {
     "name": "#%%\n"
    }
   }
  },
  {
   "cell_type": "markdown",
   "source": [
    "As is shown below, the automata is a NDFA since there are 2 transitions with the same symbol at the initial state.\n",
    "Before applying a learning step on it, we should check it actually encodes all primes between 12 and 121."
   ],
   "metadata": {
    "collapsed": false
   }
  },
  {
   "cell_type": "code",
   "execution_count": 21,
   "outputs": [
    {
     "data": {
      "text/plain": "<IPython.lib.display.IFrame at 0x7f8e136a9c88>",
      "text/html": "\n        <iframe\n            width=\"900\"\n            height=\"500\"\n            src=\"./img/merged_prime_sieve_ab.pdf\"\n            frameborder=\"0\"\n            allowfullscreen\n        ></iframe>\n        "
     },
     "execution_count": 21,
     "metadata": {},
     "output_type": "execute_result"
    }
   ],
   "source": [
    "merged_prime_sieve_ab = merge_automatas(prime_sieve_a.fda, prime_sieve_b.fda)\n",
    "\n",
    "AutomataPlotter.tikz(merged_prime_sieve_ab, filename=\"merged_prime_sieve_ab\", output=\"./img/\")\n",
    "IFrame(\"./img/merged_prime_sieve_ab.pdf\", width=900, height=500)"
   ],
   "metadata": {
    "collapsed": false,
    "pycharm": {
     "name": "#%%\n"
    }
   }
  },
  {
   "cell_type": "code",
   "execution_count": 22,
   "outputs": [],
   "source": [
    "for i in range(12, 121):\n",
    "    accepted = merged_prime_sieve_ab.read(get_binary_input(i))\n",
    "    if i in sieve:\n",
    "        assert accepted\n",
    "    else:\n",
    "        assert not accepted"
   ],
   "metadata": {
    "collapsed": false,
    "pycharm": {
     "name": "#%%\n"
    }
   }
  },
  {
   "cell_type": "markdown",
   "source": [
    "Finally we can apply a learning step into the merged automata from above, and merge it to the initial $PSA(n)$\n",
    "and we obtain the following NDFA."
   ],
   "metadata": {
    "collapsed": false
   }
  },
  {
   "cell_type": "code",
   "execution_count": 24,
   "outputs": [
    {
     "data": {
      "text/plain": "<IPython.lib.display.IFrame at 0x7f8e1335ed30>",
      "text/html": "\n        <iframe\n            width=\"900\"\n            height=\"500\"\n            src=\"./img/nfda_prime_sieve_121.pdf\"\n            frameborder=\"0\"\n            allowfullscreen\n        ></iframe>\n        "
     },
     "execution_count": 24,
     "metadata": {},
     "output_type": "execute_result"
    }
   ],
   "source": [
    "nfda_prime_sieve_121 = merge_automatas(minimal_eleven_sieve, merged_prime_sieve_ab.minimal())\n",
    "\n",
    "AutomataPlotter.tikz(nfda_prime_sieve_121, filename=\"nfda_prime_sieve_121\", output=\"./img/\")\n",
    "IFrame(\"./img/nfda_prime_sieve_121.pdf\", width=900, height=500)"
   ],
   "metadata": {
    "collapsed": false,
    "pycharm": {
     "name": "#%%\n"
    }
   }
  },
  {
   "cell_type": "markdown",
   "source": [
    "We can further minimize it, and get the minimal prime sieve for primes up to 121 (which is identical to the\n",
    "$7$ $bits$ sieve we obtained before)."
   ],
   "metadata": {
    "collapsed": false,
    "pycharm": {
     "name": "#%% md\n"
    }
   }
  },
  {
   "cell_type": "code",
   "execution_count": 30,
   "outputs": [
    {
     "name": "stdout",
     "output_type": "stream",
     "text": [
      "[+] PSA(121) states = 26\n",
      "[+] PSA(121) final states = 9\n",
      "[+] PSA(121) transitions = 43\n",
      "\n",
      "[+] PSA(128) states = 26\n",
      "[+] PSA(128) final states = 9\n",
      "[+] PSA(128) transitions = 43\n",
      "\n"
     ]
    },
    {
     "data": {
      "text/plain": "<IPython.lib.display.IFrame at 0x7f8df3195470>",
      "text/html": "\n        <iframe\n            width=\"900\"\n            height=\"500\"\n            src=\"./img/minimal_prime_sieve_121.pdf\"\n            frameborder=\"0\"\n            allowfullscreen\n        ></iframe>\n        "
     },
     "execution_count": 30,
     "metadata": {},
     "output_type": "execute_result"
    }
   ],
   "source": [
    "minimal_prime_sieve_121 = nfda_prime_sieve_121.minimal()\n",
    "\n",
    "for i in range(2, 121):\n",
    "    accepted = minimal_prime_sieve_121.read(get_binary_input(i))\n",
    "    if i in sieve:\n",
    "        assert accepted\n",
    "    else:\n",
    "        assert not accepted\n",
    "\n",
    "automata_info(\"PSA(121)\", minimal_prime_sieve_121)\n",
    "automata_info(\"PSA(128)\", minimal_prime_sieve_121)\n",
    "\n",
    "AutomataPlotter.tikz(minimal_prime_sieve_121, filename=\"minimal_prime_sieve_121\", output=\"./img/\")\n",
    "IFrame(\"./img/minimal_prime_sieve_121.pdf\", width=900, height=500)"
   ],
   "metadata": {
    "collapsed": false,
    "pycharm": {
     "name": "#%%\n"
    }
   }
  },
  {
   "cell_type": "code",
   "execution_count": null,
   "outputs": [],
   "source": [],
   "metadata": {
    "collapsed": false,
    "pycharm": {
     "name": "#%%\n"
    }
   }
  },
  {
   "cell_type": "code",
   "execution_count": 19,
   "metadata": {
    "scrolled": false
   },
   "outputs": [
    {
     "data": {
      "text/html": [
       "\n",
       "        <iframe\n",
       "            width=\"900\"\n",
       "            height=\"500\"\n",
       "            src=\"./img/prime_sieve_drive_b.pdf\"\n",
       "            frameborder=\"0\"\n",
       "            allowfullscreen\n",
       "        ></iframe>\n",
       "        "
      ],
      "text/plain": [
       "<IPython.lib.display.IFrame at 0x7f7aca8ff3c8>"
      ]
     },
     "execution_count": 19,
     "metadata": {},
     "output_type": "execute_result"
    }
   ],
   "source": []
  },
  {
   "cell_type": "markdown",
   "metadata": {
    "pycharm": {
     "name": "#%% md\n"
    }
   },
   "source": [
    "As is shown below, the automata is a NDFA since there are 2 transitions with the same symbol at the initial state.\n",
    "Before applying a learning step on it, we should check it actually encodes all primes between 12 and 121."
   ]
  },
  {
   "cell_type": "code",
   "execution_count": 23,
   "metadata": {
    "pycharm": {
     "name": "#%%\n"
    },
    "scrolled": false
   },
   "outputs": [
    {
     "data": {
      "text/html": [
       "\n",
       "        <iframe\n",
       "            width=\"900\"\n",
       "            height=\"500\"\n",
       "            src=\"./img/merged_prime_sieve_ab.pdf\"\n",
       "            frameborder=\"0\"\n",
       "            allowfullscreen\n",
       "        ></iframe>\n",
       "        "
      ],
      "text/plain": [
       "<IPython.lib.display.IFrame at 0x7f7ab1d961d0>"
      ]
     },
     "execution_count": 23,
     "metadata": {},
     "output_type": "execute_result"
    }
   ],
   "source": [
    "merged_prime_sieve_ab = merge_automatas(prime_sieve_a.fda, prime_sieve_b.fda)\n",
    "\n",
    "AutomataPlotter.tikz(merged_prime_sieve_ab, filename=\"merged_prime_sieve_ab\", output=\"./img/\")\n",
    "IFrame(\"./img/merged_prime_sieve_ab.pdf\", width=900, height=500)"
   ]
  },
  {
   "cell_type": "code",
   "execution_count": null,
   "metadata": {},
   "outputs": [],
   "source": [
    "for i in range(12, 121):\n",
    "    accepted = merged_prime_sieve_ab.read(get_binary_input(i))\n",
    "    if i in sieve:\n",
    "        assert accepted\n",
    "    else:\n",
    "        assert not accepted"
   ]
  },
  {
   "cell_type": "markdown",
   "metadata": {
    "pycharm": {
     "name": "#%% md\n"
    }
   },
   "source": [
    "Finally we can apply a learning step into the merged automata from above, and merge it to the initial $PSA(n)$ and we obtain the following NDFA. "
   ]
  },
  {
   "cell_type": "code",
   "execution_count": 36,
   "metadata": {},
   "outputs": [
    {
     "data": {
      "text/html": [
       "\n",
       "        <iframe\n",
       "            width=\"900\"\n",
       "            height=\"500\"\n",
       "            src=\"./img/nfda_prime_sieve_121.pdf\"\n",
       "            frameborder=\"0\"\n",
       "            allowfullscreen\n",
       "        ></iframe>\n",
       "        "
      ],
      "text/plain": [
       "<IPython.lib.display.IFrame at 0x7f7acaa122e8>"
      ]
     },
     "execution_count": 36,
     "metadata": {},
     "output_type": "execute_result"
    }
   ],
   "source": [
    "nfda_prime_sieve_121 = merge_automatas(minimal_eleven_sieve, merged_prime_sieve_ab.minimal())\n",
    "\n",
    "AutomataPlotter.tikz(nfda_prime_sieve_121, filename=\"nfda_prime_sieve_121\", output=\"./img/\")\n",
    "IFrame(\"./img/nfda_prime_sieve_121.pdf\", width=900, height=500)"
   ]
  },
  {
   "cell_type": "code",
   "execution_count": null,
   "metadata": {},
   "outputs": [],
   "source": []
  }
 ],
 "metadata": {
  "kernelspec": {
   "display_name": "Python 3",
   "language": "python",
   "name": "python3"
  },
  "language_info": {
   "codemirror_mode": {
    "name": "ipython",
    "version": 3
   },
   "file_extension": ".py",
   "mimetype": "text/x-python",
   "name": "python",
   "nbconvert_exporter": "python",
   "pygments_lexer": "ipython3",
   "version": "3.6.9"
  }
 },
 "nbformat": 4,
 "nbformat_minor": 1
}